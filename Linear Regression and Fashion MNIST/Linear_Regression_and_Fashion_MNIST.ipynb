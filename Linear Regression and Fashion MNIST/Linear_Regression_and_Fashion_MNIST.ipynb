{
  "nbformat": 4,
  "nbformat_minor": 0,
  "metadata": {
    "colab": {
      "name": "Linear Regression and Fashion MNIST.ipynb",
      "provenance": []
    },
    "kernelspec": {
      "name": "python3",
      "display_name": "Python 3"
    },
    "language_info": {
      "name": "python"
    },
    "accelerator": "TPU"
  },
  "cells": [
    {
      "cell_type": "markdown",
      "metadata": {
        "id": "Q5ncEbxnMHEh"
      },
      "source": [
        "# **Linear Regression**"
      ]
    },
    {
      "cell_type": "code",
      "metadata": {
        "id": "s0usrQ5dnm1G"
      },
      "source": [
        "import pandas as pd\n",
        "import tensorflow as tf\n",
        "import numpy as np"
      ],
      "execution_count": 1,
      "outputs": []
    },
    {
      "cell_type": "code",
      "metadata": {
        "colab": {
          "base_uri": "https://localhost:8080/"
        },
        "id": "iIm_6AcRoV01",
        "outputId": "262cb7d4-c138-4065-e236-04a9fe36cd67"
      },
      "source": [
        "data = pd.read_csv('Salary_Data.csv')\n",
        "print(data)"
      ],
      "execution_count": 2,
      "outputs": [
        {
          "output_type": "stream",
          "text": [
            "    YearsExperience    Salary\n",
            "0               1.1   39343.0\n",
            "1               1.3   46205.0\n",
            "2               1.5   37731.0\n",
            "3               2.0   43525.0\n",
            "4               2.2   39891.0\n",
            "5               2.9   56642.0\n",
            "6               3.0   60150.0\n",
            "7               3.2   54445.0\n",
            "8               3.2   64445.0\n",
            "9               3.7   57189.0\n",
            "10              3.9   63218.0\n",
            "11              4.0   55794.0\n",
            "12              4.0   56957.0\n",
            "13              4.1   57081.0\n",
            "14              4.5   61111.0\n",
            "15              4.9   67938.0\n",
            "16              5.1   66029.0\n",
            "17              5.3   83088.0\n",
            "18              5.9   81363.0\n",
            "19              6.0   93940.0\n",
            "20              6.8   91738.0\n",
            "21              7.1   98273.0\n",
            "22              7.9  101302.0\n",
            "23              8.2  113812.0\n",
            "24              8.7  109431.0\n",
            "25              9.0  105582.0\n",
            "26              9.5  116969.0\n",
            "27              9.6  112635.0\n",
            "28             10.3  122391.0\n",
            "29             10.5  121872.0\n"
          ],
          "name": "stdout"
        }
      ]
    },
    {
      "cell_type": "code",
      "metadata": {
        "colab": {
          "base_uri": "https://localhost:8080/"
        },
        "id": "rODqoXaIDUa-",
        "outputId": "4edb8620-402a-4f17-d701-651d4430a4fc"
      },
      "source": [
        "d = data.values\n",
        "d.shape"
      ],
      "execution_count": 3,
      "outputs": [
        {
          "output_type": "execute_result",
          "data": {
            "text/plain": [
              "(30, 2)"
            ]
          },
          "metadata": {
            "tags": []
          },
          "execution_count": 3
        }
      ]
    },
    {
      "cell_type": "code",
      "metadata": {
        "colab": {
          "base_uri": "https://localhost:8080/"
        },
        "id": "aUKou0GcD_ec",
        "outputId": "d23fae24-8260-4def-e8b6-50f78bda8e39"
      },
      "source": [
        "X = data.values[:,0:-1]\n",
        "Y = data.values[:,-1:]\n",
        "print(X.shape)\n",
        "print(Y.shape)"
      ],
      "execution_count": 4,
      "outputs": [
        {
          "output_type": "stream",
          "text": [
            "(30, 1)\n",
            "(30, 1)\n"
          ],
          "name": "stdout"
        }
      ]
    },
    {
      "cell_type": "code",
      "metadata": {
        "id": "KamvQOrqpl3a"
      },
      "source": [
        "from tensorflow import keras\n",
        "model = keras.Sequential()\n",
        "model.add(\n",
        "    keras.layers.Dense(units=1,input_shape=[1])\n",
        ")"
      ],
      "execution_count": 5,
      "outputs": []
    },
    {
      "cell_type": "code",
      "metadata": {
        "id": "o4wGbj1lp50i"
      },
      "source": [
        "model.compile(\n",
        "    optimizer = 'sgd',\n",
        "    loss = 'mean_squared_error'\n",
        ")"
      ],
      "execution_count": 6,
      "outputs": []
    },
    {
      "cell_type": "code",
      "metadata": {
        "colab": {
          "base_uri": "https://localhost:8080/"
        },
        "id": "bHyOsdTeqf-I",
        "outputId": "628dd334-660a-4363-c0fe-075576a8913c"
      },
      "source": [
        "model.fit(X,Y/10000,epochs=100)"
      ],
      "execution_count": 7,
      "outputs": [
        {
          "output_type": "stream",
          "text": [
            "Epoch 1/100\n",
            "1/1 [==============================] - 0s 478ms/step - loss: 285.2799\n",
            "Epoch 2/100\n",
            "1/1 [==============================] - 0s 9ms/step - loss: 21.0981\n",
            "Epoch 3/100\n",
            "1/1 [==============================] - 0s 5ms/step - loss: 2.6921\n",
            "Epoch 4/100\n",
            "1/1 [==============================] - 0s 4ms/step - loss: 1.4024\n",
            "Epoch 5/100\n",
            "1/1 [==============================] - 0s 4ms/step - loss: 1.3048\n",
            "Epoch 6/100\n",
            "1/1 [==============================] - 0s 4ms/step - loss: 1.2903\n",
            "Epoch 7/100\n",
            "1/1 [==============================] - 0s 4ms/step - loss: 1.2816\n",
            "Epoch 8/100\n",
            "1/1 [==============================] - 0s 5ms/step - loss: 1.2734\n",
            "Epoch 9/100\n",
            "1/1 [==============================] - 0s 5ms/step - loss: 1.2652\n",
            "Epoch 10/100\n",
            "1/1 [==============================] - 0s 7ms/step - loss: 1.2572\n",
            "Epoch 11/100\n",
            "1/1 [==============================] - 0s 5ms/step - loss: 1.2492\n",
            "Epoch 12/100\n",
            "1/1 [==============================] - 0s 5ms/step - loss: 1.2413\n",
            "Epoch 13/100\n",
            "1/1 [==============================] - 0s 5ms/step - loss: 1.2335\n",
            "Epoch 14/100\n",
            "1/1 [==============================] - 0s 5ms/step - loss: 1.2257\n",
            "Epoch 15/100\n",
            "1/1 [==============================] - 0s 9ms/step - loss: 1.2180\n",
            "Epoch 16/100\n",
            "1/1 [==============================] - 0s 8ms/step - loss: 1.2104\n",
            "Epoch 17/100\n",
            "1/1 [==============================] - 0s 16ms/step - loss: 1.2028\n",
            "Epoch 18/100\n",
            "1/1 [==============================] - 0s 6ms/step - loss: 1.1953\n",
            "Epoch 19/100\n",
            "1/1 [==============================] - 0s 4ms/step - loss: 1.1878\n",
            "Epoch 20/100\n",
            "1/1 [==============================] - 0s 6ms/step - loss: 1.1804\n",
            "Epoch 21/100\n",
            "1/1 [==============================] - 0s 5ms/step - loss: 1.1731\n",
            "Epoch 22/100\n",
            "1/1 [==============================] - 0s 7ms/step - loss: 1.1658\n",
            "Epoch 23/100\n",
            "1/1 [==============================] - 0s 5ms/step - loss: 1.1586\n",
            "Epoch 24/100\n",
            "1/1 [==============================] - 0s 5ms/step - loss: 1.1515\n",
            "Epoch 25/100\n",
            "1/1 [==============================] - 0s 6ms/step - loss: 1.1444\n",
            "Epoch 26/100\n",
            "1/1 [==============================] - 0s 4ms/step - loss: 1.1374\n",
            "Epoch 27/100\n",
            "1/1 [==============================] - 0s 5ms/step - loss: 1.1304\n",
            "Epoch 28/100\n",
            "1/1 [==============================] - 0s 6ms/step - loss: 1.1235\n",
            "Epoch 29/100\n",
            "1/1 [==============================] - 0s 4ms/step - loss: 1.1167\n",
            "Epoch 30/100\n",
            "1/1 [==============================] - 0s 5ms/step - loss: 1.1099\n",
            "Epoch 31/100\n",
            "1/1 [==============================] - 0s 5ms/step - loss: 1.1032\n",
            "Epoch 32/100\n",
            "1/1 [==============================] - 0s 5ms/step - loss: 1.0965\n",
            "Epoch 33/100\n",
            "1/1 [==============================] - 0s 4ms/step - loss: 1.0899\n",
            "Epoch 34/100\n",
            "1/1 [==============================] - 0s 4ms/step - loss: 1.0833\n",
            "Epoch 35/100\n",
            "1/1 [==============================] - 0s 7ms/step - loss: 1.0768\n",
            "Epoch 36/100\n",
            "1/1 [==============================] - 0s 7ms/step - loss: 1.0703\n",
            "Epoch 37/100\n",
            "1/1 [==============================] - 0s 6ms/step - loss: 1.0639\n",
            "Epoch 38/100\n",
            "1/1 [==============================] - 0s 5ms/step - loss: 1.0576\n",
            "Epoch 39/100\n",
            "1/1 [==============================] - 0s 5ms/step - loss: 1.0513\n",
            "Epoch 40/100\n",
            "1/1 [==============================] - 0s 5ms/step - loss: 1.0451\n",
            "Epoch 41/100\n",
            "1/1 [==============================] - 0s 5ms/step - loss: 1.0389\n",
            "Epoch 42/100\n",
            "1/1 [==============================] - 0s 4ms/step - loss: 1.0328\n",
            "Epoch 43/100\n",
            "1/1 [==============================] - 0s 8ms/step - loss: 1.0267\n",
            "Epoch 44/100\n",
            "1/1 [==============================] - 0s 6ms/step - loss: 1.0207\n",
            "Epoch 45/100\n",
            "1/1 [==============================] - 0s 5ms/step - loss: 1.0147\n",
            "Epoch 46/100\n",
            "1/1 [==============================] - 0s 5ms/step - loss: 1.0088\n",
            "Epoch 47/100\n",
            "1/1 [==============================] - 0s 5ms/step - loss: 1.0029\n",
            "Epoch 48/100\n",
            "1/1 [==============================] - 0s 5ms/step - loss: 0.9970\n",
            "Epoch 49/100\n",
            "1/1 [==============================] - 0s 5ms/step - loss: 0.9913\n",
            "Epoch 50/100\n",
            "1/1 [==============================] - 0s 5ms/step - loss: 0.9855\n",
            "Epoch 51/100\n",
            "1/1 [==============================] - 0s 5ms/step - loss: 0.9799\n",
            "Epoch 52/100\n",
            "1/1 [==============================] - 0s 9ms/step - loss: 0.9742\n",
            "Epoch 53/100\n",
            "1/1 [==============================] - 0s 8ms/step - loss: 0.9686\n",
            "Epoch 54/100\n",
            "1/1 [==============================] - 0s 5ms/step - loss: 0.9631\n",
            "Epoch 55/100\n",
            "1/1 [==============================] - 0s 4ms/step - loss: 0.9576\n",
            "Epoch 56/100\n",
            "1/1 [==============================] - 0s 9ms/step - loss: 0.9522\n",
            "Epoch 57/100\n",
            "1/1 [==============================] - 0s 5ms/step - loss: 0.9468\n",
            "Epoch 58/100\n",
            "1/1 [==============================] - 0s 5ms/step - loss: 0.9414\n",
            "Epoch 59/100\n",
            "1/1 [==============================] - 0s 7ms/step - loss: 0.9361\n",
            "Epoch 60/100\n",
            "1/1 [==============================] - 0s 7ms/step - loss: 0.9308\n",
            "Epoch 61/100\n",
            "1/1 [==============================] - 0s 5ms/step - loss: 0.9256\n",
            "Epoch 62/100\n",
            "1/1 [==============================] - 0s 5ms/step - loss: 0.9204\n",
            "Epoch 63/100\n",
            "1/1 [==============================] - 0s 5ms/step - loss: 0.9153\n",
            "Epoch 64/100\n",
            "1/1 [==============================] - 0s 5ms/step - loss: 0.9102\n",
            "Epoch 65/100\n",
            "1/1 [==============================] - 0s 7ms/step - loss: 0.9052\n",
            "Epoch 66/100\n",
            "1/1 [==============================] - 0s 23ms/step - loss: 0.9002\n",
            "Epoch 67/100\n",
            "1/1 [==============================] - 0s 10ms/step - loss: 0.8952\n",
            "Epoch 68/100\n",
            "1/1 [==============================] - 0s 5ms/step - loss: 0.8903\n",
            "Epoch 69/100\n",
            "1/1 [==============================] - 0s 5ms/step - loss: 0.8854\n",
            "Epoch 70/100\n",
            "1/1 [==============================] - 0s 5ms/step - loss: 0.8806\n",
            "Epoch 71/100\n",
            "1/1 [==============================] - 0s 6ms/step - loss: 0.8758\n",
            "Epoch 72/100\n",
            "1/1 [==============================] - 0s 6ms/step - loss: 0.8710\n",
            "Epoch 73/100\n",
            "1/1 [==============================] - 0s 7ms/step - loss: 0.8663\n",
            "Epoch 74/100\n",
            "1/1 [==============================] - 0s 5ms/step - loss: 0.8617\n",
            "Epoch 75/100\n",
            "1/1 [==============================] - 0s 12ms/step - loss: 0.8570\n",
            "Epoch 76/100\n",
            "1/1 [==============================] - 0s 7ms/step - loss: 0.8524\n",
            "Epoch 77/100\n",
            "1/1 [==============================] - 0s 9ms/step - loss: 0.8479\n",
            "Epoch 78/100\n",
            "1/1 [==============================] - 0s 8ms/step - loss: 0.8434\n",
            "Epoch 79/100\n",
            "1/1 [==============================] - 0s 6ms/step - loss: 0.8389\n",
            "Epoch 80/100\n",
            "1/1 [==============================] - 0s 5ms/step - loss: 0.8344\n",
            "Epoch 81/100\n",
            "1/1 [==============================] - 0s 8ms/step - loss: 0.8300\n",
            "Epoch 82/100\n",
            "1/1 [==============================] - 0s 5ms/step - loss: 0.8257\n",
            "Epoch 83/100\n",
            "1/1 [==============================] - 0s 6ms/step - loss: 0.8213\n",
            "Epoch 84/100\n",
            "1/1 [==============================] - 0s 5ms/step - loss: 0.8170\n",
            "Epoch 85/100\n",
            "1/1 [==============================] - 0s 10ms/step - loss: 0.8128\n",
            "Epoch 86/100\n",
            "1/1 [==============================] - 0s 5ms/step - loss: 0.8085\n",
            "Epoch 87/100\n",
            "1/1 [==============================] - 0s 6ms/step - loss: 0.8044\n",
            "Epoch 88/100\n",
            "1/1 [==============================] - 0s 16ms/step - loss: 0.8002\n",
            "Epoch 89/100\n",
            "1/1 [==============================] - 0s 6ms/step - loss: 0.7961\n",
            "Epoch 90/100\n",
            "1/1 [==============================] - 0s 14ms/step - loss: 0.7920\n",
            "Epoch 91/100\n",
            "1/1 [==============================] - 0s 10ms/step - loss: 0.7880\n",
            "Epoch 92/100\n",
            "1/1 [==============================] - 0s 5ms/step - loss: 0.7840\n",
            "Epoch 93/100\n",
            "1/1 [==============================] - 0s 10ms/step - loss: 0.7800\n",
            "Epoch 94/100\n",
            "1/1 [==============================] - 0s 7ms/step - loss: 0.7760\n",
            "Epoch 95/100\n",
            "1/1 [==============================] - 0s 4ms/step - loss: 0.7721\n",
            "Epoch 96/100\n",
            "1/1 [==============================] - 0s 8ms/step - loss: 0.7682\n",
            "Epoch 97/100\n",
            "1/1 [==============================] - 0s 5ms/step - loss: 0.7644\n",
            "Epoch 98/100\n",
            "1/1 [==============================] - 0s 6ms/step - loss: 0.7606\n",
            "Epoch 99/100\n",
            "1/1 [==============================] - 0s 7ms/step - loss: 0.7568\n",
            "Epoch 100/100\n",
            "1/1 [==============================] - 0s 5ms/step - loss: 0.7531\n"
          ],
          "name": "stdout"
        },
        {
          "output_type": "execute_result",
          "data": {
            "text/plain": [
              "<tensorflow.python.keras.callbacks.History at 0x7f2383ba0d10>"
            ]
          },
          "metadata": {
            "tags": []
          },
          "execution_count": 7
        }
      ]
    },
    {
      "cell_type": "code",
      "metadata": {
        "colab": {
          "base_uri": "https://localhost:8080/"
        },
        "id": "SLH3Al_9qmhP",
        "outputId": "2b7e9773-4ac5-4113-9447-cfd08ef1f4d7"
      },
      "source": [
        "predicted = model.predict(np.array([10.5]))\n",
        "print(\"Predicted Salary is:\",predicted*10000)"
      ],
      "execution_count": 8,
      "outputs": [
        {
          "output_type": "stream",
          "text": [
            "Predicted Salary is: [[132949.11]]\n"
          ],
          "name": "stdout"
        }
      ]
    },
    {
      "cell_type": "code",
      "metadata": {
        "colab": {
          "base_uri": "https://localhost:8080/",
          "height": 282
        },
        "id": "hBbjqPHkILem",
        "outputId": "b208573f-cd80-4693-cc17-2437bc5b3076"
      },
      "source": [
        "import matplotlib.pyplot as plt\n",
        "plt.scatter(X,Y/10000,color='black')\n",
        "plt.plot(X,model.predict(X),color='green')"
      ],
      "execution_count": 9,
      "outputs": [
        {
          "output_type": "execute_result",
          "data": {
            "text/plain": [
              "[<matplotlib.lines.Line2D at 0x7f2378b0ba90>]"
            ]
          },
          "metadata": {
            "tags": []
          },
          "execution_count": 9
        },
        {
          "output_type": "display_data",
          "data": {
            "image/png": "[encoded data removed]",
            "text/plain": [
              "<Figure size 432x288 with 1 Axes>"
            ]
          },
          "metadata": {
            "tags": [],
            "needs_background": "light"
          }
        }
      ]
    },
    {
      "cell_type": "code",
      "metadata": {
        "colab": {
          "base_uri": "https://localhost:8080/"
        },
        "id": "bdD_37gZuP2K",
        "outputId": "b5f708bd-df06-4f78-8bd9-18664a1a17fc"
      },
      "source": [
        "from sklearn.linear_model import LinearRegression\n",
        "m = LinearRegression(copy_X=True, fit_intercept=True, n_jobs=None, normalize=True)\n",
        "m.fit(X,Y)"
      ],
      "execution_count": 10,
      "outputs": [
        {
          "output_type": "execute_result",
          "data": {
            "text/plain": [
              "LinearRegression(copy_X=True, fit_intercept=True, n_jobs=None, normalize=True)"
            ]
          },
          "metadata": {
            "tags": []
          },
          "execution_count": 10
        }
      ]
    },
    {
      "cell_type": "code",
      "metadata": {
        "colab": {
          "base_uri": "https://localhost:8080/"
        },
        "id": "Hd0Z3Gc2uiAc",
        "outputId": "21da4e8e-db58-41ab-8dc9-6cca064e3328"
      },
      "source": [
        "m.predict(np.array([[1.1]]))"
      ],
      "execution_count": 11,
      "outputs": [
        {
          "output_type": "execute_result",
          "data": {
            "text/plain": [
              "array([[36187.15875227]])"
            ]
          },
          "metadata": {
            "tags": []
          },
          "execution_count": 11
        }
      ]
    },
    {
      "cell_type": "code",
      "metadata": {
        "colab": {
          "base_uri": "https://localhost:8080/",
          "height": 282
        },
        "id": "aCevR0U0KPQm",
        "outputId": "0415b2d0-889a-4245-cbc9-d5e92aab390e"
      },
      "source": [
        "plt.scatter(X,Y,color='black')\n",
        "plt.plot(X,m.predict(X),color='green')"
      ],
      "execution_count": 12,
      "outputs": [
        {
          "output_type": "execute_result",
          "data": {
            "text/plain": [
              "[<matplotlib.lines.Line2D at 0x7f236c41d850>]"
            ]
          },
          "metadata": {
            "tags": []
          },
          "execution_count": 12
        },
        {
          "output_type": "display_data",
          "data": {
            "image/png": "[encoded data removed]",
            "text/plain": [
              "<Figure size 432x288 with 1 Axes>"
            ]
          },
          "metadata": {
            "tags": [],
            "needs_background": "light"
          }
        }
      ]
    },
    {
      "cell_type": "code",
      "metadata": {
        "id": "3_UF7p5RLqQj"
      },
      "source": [
        ""
      ],
      "execution_count": 12,
      "outputs": []
    },
    {
      "cell_type": "markdown",
      "metadata": {
        "id": "e7WMnN4bMdO4"
      },
      "source": [
        ""
      ]
    },
    {
      "cell_type": "code",
      "metadata": {
        "id": "ixQP_pYJMd0O"
      },
      "source": [
        "import pandas as pd\n",
        "import tensorflow as tf\n",
        "import numpy as np\n",
        "import matplotlib.pyplot as plt"
      ],
      "execution_count": 13,
      "outputs": []
    },
    {
      "cell_type": "code",
      "metadata": {
        "colab": {
          "base_uri": "https://localhost:8080/"
        },
        "id": "Yt88Q8bdMjub",
        "outputId": "e472fc57-5331-49b9-869e-b74dc9d3da1f"
      },
      "source": [
        "data = pd.read_csv('data.csv')\n",
        "print(data)"
      ],
      "execution_count": 14,
      "outputs": [
        {
          "output_type": "stream",
          "text": [
            "         X     y\n",
            "0    230.1  22.1\n",
            "1     44.5  10.4\n",
            "2     17.2   9.3\n",
            "3    151.5  18.5\n",
            "4    180.8  12.9\n",
            "..     ...   ...\n",
            "195   38.2   7.6\n",
            "196   94.2   9.7\n",
            "197  177.0  12.8\n",
            "198  283.6  25.5\n",
            "199  232.1  13.4\n",
            "\n",
            "[200 rows x 2 columns]\n"
          ],
          "name": "stdout"
        }
      ]
    },
    {
      "cell_type": "code",
      "metadata": {
        "colab": {
          "base_uri": "https://localhost:8080/"
        },
        "id": "lDiyeKtaMs2_",
        "outputId": "9ebd540a-0d6a-48cf-9c5e-8bf914e67ccc"
      },
      "source": [
        "d = data.values\n",
        "d.shape"
      ],
      "execution_count": 15,
      "outputs": [
        {
          "output_type": "execute_result",
          "data": {
            "text/plain": [
              "(200, 2)"
            ]
          },
          "metadata": {
            "tags": []
          },
          "execution_count": 15
        }
      ]
    },
    {
      "cell_type": "code",
      "metadata": {
        "colab": {
          "base_uri": "https://localhost:8080/"
        },
        "id": "KmmbR1rtM1E7",
        "outputId": "8c63e781-a42e-4a5d-c9c9-2c499233fd6d"
      },
      "source": [
        "X = data.iloc[:,0:-1]\n",
        "Y = data.iloc[:,-1:]\n",
        "print(X.shape)\n",
        "print(Y.shape)"
      ],
      "execution_count": 16,
      "outputs": [
        {
          "output_type": "stream",
          "text": [
            "(200, 1)\n",
            "(200, 1)\n"
          ],
          "name": "stdout"
        }
      ]
    },
    {
      "cell_type": "code",
      "metadata": {
        "id": "nNM6bLKrM43V"
      },
      "source": [
        "from tensorflow import keras\n",
        "model = tf.keras.Sequential()\n",
        "model.add(tf.keras.layers.Dense(1,input_shape=[1]))\n",
        "model.compile(loss='mean_squared_error',optimizer=tf.keras.optimizers.Adam(0.01))"
      ],
      "execution_count": 17,
      "outputs": []
    },
    {
      "cell_type": "code",
      "metadata": {
        "colab": {
          "base_uri": "https://localhost:8080/"
        },
        "id": "CzjFtsZPM_O8",
        "outputId": "5f82bba1-de98-4f4f-b3c3-d52730bc9c6e"
      },
      "source": [
        "history = model.fit(X,Y,epochs=600)"
      ],
      "execution_count": 18,
      "outputs": [
        {
          "output_type": "stream",
          "text": [
            "Epoch 1/600\n",
            "7/7 [==============================] - 0s 2ms/step - loss: 3480.5377\n",
            "Epoch 2/600\n",
            "7/7 [==============================] - 0s 1ms/step - loss: 2291.7949\n",
            "Epoch 3/600\n",
            "7/7 [==============================] - 0s 2ms/step - loss: 1343.6823\n",
            "Epoch 4/600\n",
            "7/7 [==============================] - 0s 2ms/step - loss: 714.1123\n",
            "Epoch 5/600\n",
            "7/7 [==============================] - 0s 2ms/step - loss: 302.8213\n",
            "Epoch 6/600\n",
            "7/7 [==============================] - 0s 2ms/step - loss: 107.0868\n",
            "Epoch 7/600\n",
            "7/7 [==============================] - 0s 2ms/step - loss: 39.0473\n",
            "Epoch 8/600\n",
            "7/7 [==============================] - 0s 2ms/step - loss: 22.1531\n",
            "Epoch 9/600\n",
            "7/7 [==============================] - 0s 3ms/step - loss: 23.3217\n",
            "Epoch 10/600\n",
            "7/7 [==============================] - 0s 2ms/step - loss: 24.0884\n",
            "Epoch 11/600\n",
            "7/7 [==============================] - 0s 2ms/step - loss: 24.1137\n",
            "Epoch 12/600\n",
            "7/7 [==============================] - 0s 2ms/step - loss: 22.9738\n",
            "Epoch 13/600\n",
            "7/7 [==============================] - 0s 2ms/step - loss: 21.5538\n",
            "Epoch 14/600\n",
            "7/7 [==============================] - 0s 2ms/step - loss: 21.4203\n",
            "Epoch 15/600\n",
            "7/7 [==============================] - 0s 2ms/step - loss: 22.9218\n",
            "Epoch 16/600\n",
            "7/7 [==============================] - 0s 2ms/step - loss: 21.7757\n",
            "Epoch 17/600\n",
            "7/7 [==============================] - 0s 2ms/step - loss: 22.0833\n",
            "Epoch 18/600\n",
            "7/7 [==============================] - 0s 3ms/step - loss: 21.4838\n",
            "Epoch 19/600\n",
            "7/7 [==============================] - 0s 2ms/step - loss: 20.9335\n",
            "Epoch 20/600\n",
            "7/7 [==============================] - 0s 3ms/step - loss: 21.8343\n",
            "Epoch 21/600\n",
            "7/7 [==============================] - 0s 2ms/step - loss: 21.3409\n",
            "Epoch 22/600\n",
            "7/7 [==============================] - 0s 2ms/step - loss: 20.5586\n",
            "Epoch 23/600\n",
            "7/7 [==============================] - 0s 3ms/step - loss: 20.8676\n",
            "Epoch 24/600\n",
            "7/7 [==============================] - 0s 2ms/step - loss: 21.8421\n",
            "Epoch 25/600\n",
            "7/7 [==============================] - 0s 3ms/step - loss: 23.2853\n",
            "Epoch 26/600\n",
            "7/7 [==============================] - 0s 2ms/step - loss: 21.2014\n",
            "Epoch 27/600\n",
            "7/7 [==============================] - 0s 3ms/step - loss: 20.1621\n",
            "Epoch 28/600\n",
            "7/7 [==============================] - 0s 2ms/step - loss: 21.2196\n",
            "Epoch 29/600\n",
            "7/7 [==============================] - 0s 2ms/step - loss: 21.8393\n",
            "Epoch 30/600\n",
            "7/7 [==============================] - 0s 2ms/step - loss: 22.3758\n",
            "Epoch 31/600\n",
            "7/7 [==============================] - 0s 2ms/step - loss: 19.6760\n",
            "Epoch 32/600\n",
            "7/7 [==============================] - 0s 2ms/step - loss: 23.2854\n",
            "Epoch 33/600\n",
            "7/7 [==============================] - 0s 2ms/step - loss: 21.1421\n",
            "Epoch 34/600\n",
            "7/7 [==============================] - 0s 2ms/step - loss: 21.0629\n",
            "Epoch 35/600\n",
            "7/7 [==============================] - 0s 3ms/step - loss: 21.1300\n",
            "Epoch 36/600\n",
            "7/7 [==============================] - 0s 2ms/step - loss: 20.5038\n",
            "Epoch 37/600\n",
            "7/7 [==============================] - 0s 3ms/step - loss: 21.5396\n",
            "Epoch 38/600\n",
            "7/7 [==============================] - 0s 2ms/step - loss: 22.1637\n",
            "Epoch 39/600\n",
            "7/7 [==============================] - 0s 2ms/step - loss: 21.6405\n",
            "Epoch 40/600\n",
            "7/7 [==============================] - 0s 2ms/step - loss: 20.6152\n",
            "Epoch 41/600\n",
            "7/7 [==============================] - 0s 2ms/step - loss: 20.9800\n",
            "Epoch 42/600\n",
            "7/7 [==============================] - 0s 2ms/step - loss: 22.0150\n",
            "Epoch 43/600\n",
            "7/7 [==============================] - 0s 2ms/step - loss: 22.2228\n",
            "Epoch 44/600\n",
            "7/7 [==============================] - 0s 3ms/step - loss: 21.8309\n",
            "Epoch 45/600\n",
            "7/7 [==============================] - 0s 2ms/step - loss: 22.5199\n",
            "Epoch 46/600\n",
            "7/7 [==============================] - 0s 2ms/step - loss: 21.0676\n",
            "Epoch 47/600\n",
            "7/7 [==============================] - 0s 4ms/step - loss: 21.2685\n",
            "Epoch 48/600\n",
            "7/7 [==============================] - 0s 3ms/step - loss: 21.5959\n",
            "Epoch 49/600\n",
            "7/7 [==============================] - 0s 4ms/step - loss: 21.1534\n",
            "Epoch 50/600\n",
            "7/7 [==============================] - 0s 2ms/step - loss: 20.8589\n",
            "Epoch 51/600\n",
            "7/7 [==============================] - 0s 2ms/step - loss: 20.4148\n",
            "Epoch 52/600\n",
            "7/7 [==============================] - 0s 2ms/step - loss: 20.3212\n",
            "Epoch 53/600\n",
            "7/7 [==============================] - 0s 3ms/step - loss: 20.6836\n",
            "Epoch 54/600\n",
            "7/7 [==============================] - 0s 3ms/step - loss: 21.1494\n",
            "Epoch 55/600\n",
            "7/7 [==============================] - 0s 2ms/step - loss: 20.8369\n",
            "Epoch 56/600\n",
            "7/7 [==============================] - 0s 2ms/step - loss: 20.4299\n",
            "Epoch 57/600\n",
            "7/7 [==============================] - 0s 2ms/step - loss: 19.2225\n",
            "Epoch 58/600\n",
            "7/7 [==============================] - 0s 3ms/step - loss: 19.5237\n",
            "Epoch 59/600\n",
            "7/7 [==============================] - 0s 3ms/step - loss: 20.1243\n",
            "Epoch 60/600\n",
            "7/7 [==============================] - 0s 3ms/step - loss: 20.4832\n",
            "Epoch 61/600\n",
            "7/7 [==============================] - 0s 3ms/step - loss: 18.5913\n",
            "Epoch 62/600\n",
            "7/7 [==============================] - 0s 2ms/step - loss: 21.6097\n",
            "Epoch 63/600\n",
            "7/7 [==============================] - 0s 3ms/step - loss: 20.3873\n",
            "Epoch 64/600\n",
            "7/7 [==============================] - 0s 2ms/step - loss: 20.2447\n",
            "Epoch 65/600\n",
            "7/7 [==============================] - 0s 2ms/step - loss: 19.6737\n",
            "Epoch 66/600\n",
            "7/7 [==============================] - 0s 2ms/step - loss: 20.4051\n",
            "Epoch 67/600\n",
            "7/7 [==============================] - 0s 2ms/step - loss: 19.4278\n",
            "Epoch 68/600\n",
            "7/7 [==============================] - 0s 4ms/step - loss: 19.9068\n",
            "Epoch 69/600\n",
            "7/7 [==============================] - 0s 3ms/step - loss: 18.9746\n",
            "Epoch 70/600\n",
            "7/7 [==============================] - 0s 2ms/step - loss: 20.0954\n",
            "Epoch 71/600\n",
            "7/7 [==============================] - 0s 3ms/step - loss: 20.7123\n",
            "Epoch 72/600\n",
            "7/7 [==============================] - 0s 3ms/step - loss: 19.2971\n",
            "Epoch 73/600\n",
            "7/7 [==============================] - 0s 3ms/step - loss: 19.1130\n",
            "Epoch 74/600\n",
            "7/7 [==============================] - 0s 3ms/step - loss: 18.9591\n",
            "Epoch 75/600\n",
            "7/7 [==============================] - 0s 3ms/step - loss: 20.1585\n",
            "Epoch 76/600\n",
            "7/7 [==============================] - 0s 3ms/step - loss: 18.9455\n",
            "Epoch 77/600\n",
            "7/7 [==============================] - 0s 3ms/step - loss: 20.5063\n",
            "Epoch 78/600\n",
            "7/7 [==============================] - 0s 3ms/step - loss: 20.1040\n",
            "Epoch 79/600\n",
            "7/7 [==============================] - 0s 4ms/step - loss: 18.7517\n",
            "Epoch 80/600\n",
            "7/7 [==============================] - 0s 3ms/step - loss: 19.4906\n",
            "Epoch 81/600\n",
            "7/7 [==============================] - 0s 2ms/step - loss: 19.9819\n",
            "Epoch 82/600\n",
            "7/7 [==============================] - 0s 2ms/step - loss: 19.6901\n",
            "Epoch 83/600\n",
            "7/7 [==============================] - 0s 3ms/step - loss: 21.4098\n",
            "Epoch 84/600\n",
            "7/7 [==============================] - 0s 2ms/step - loss: 19.1433\n",
            "Epoch 85/600\n",
            "7/7 [==============================] - 0s 2ms/step - loss: 19.4572\n",
            "Epoch 86/600\n",
            "7/7 [==============================] - 0s 3ms/step - loss: 18.9879\n",
            "Epoch 87/600\n",
            "7/7 [==============================] - 0s 3ms/step - loss: 18.2705\n",
            "Epoch 88/600\n",
            "7/7 [==============================] - 0s 2ms/step - loss: 17.8671\n",
            "Epoch 89/600\n",
            "7/7 [==============================] - 0s 3ms/step - loss: 20.1796\n",
            "Epoch 90/600\n",
            "7/7 [==============================] - 0s 3ms/step - loss: 20.5841\n",
            "Epoch 91/600\n",
            "7/7 [==============================] - 0s 5ms/step - loss: 18.5304\n",
            "Epoch 92/600\n",
            "7/7 [==============================] - 0s 2ms/step - loss: 18.8001\n",
            "Epoch 93/600\n",
            "7/7 [==============================] - 0s 3ms/step - loss: 19.8019\n",
            "Epoch 94/600\n",
            "7/7 [==============================] - 0s 3ms/step - loss: 18.8668\n",
            "Epoch 95/600\n",
            "7/7 [==============================] - 0s 2ms/step - loss: 18.3459\n",
            "Epoch 96/600\n",
            "7/7 [==============================] - 0s 3ms/step - loss: 18.7909\n",
            "Epoch 97/600\n",
            "7/7 [==============================] - 0s 3ms/step - loss: 18.9161\n",
            "Epoch 98/600\n",
            "7/7 [==============================] - 0s 2ms/step - loss: 18.5385\n",
            "Epoch 99/600\n",
            "7/7 [==============================] - 0s 3ms/step - loss: 19.9360\n",
            "Epoch 100/600\n",
            "7/7 [==============================] - 0s 3ms/step - loss: 17.8459\n",
            "Epoch 101/600\n",
            "7/7 [==============================] - 0s 3ms/step - loss: 17.1995\n",
            "Epoch 102/600\n",
            "7/7 [==============================] - 0s 2ms/step - loss: 18.5505\n",
            "Epoch 103/600\n",
            "7/7 [==============================] - 0s 3ms/step - loss: 18.5291\n",
            "Epoch 104/600\n",
            "7/7 [==============================] - 0s 3ms/step - loss: 18.2316\n",
            "Epoch 105/600\n",
            "7/7 [==============================] - 0s 3ms/step - loss: 17.4398\n",
            "Epoch 106/600\n",
            "7/7 [==============================] - 0s 4ms/step - loss: 18.1523\n",
            "Epoch 107/600\n",
            "7/7 [==============================] - 0s 3ms/step - loss: 18.2545\n",
            "Epoch 108/600\n",
            "7/7 [==============================] - 0s 3ms/step - loss: 18.2853\n",
            "Epoch 109/600\n",
            "7/7 [==============================] - 0s 3ms/step - loss: 18.3546\n",
            "Epoch 110/600\n",
            "7/7 [==============================] - 0s 3ms/step - loss: 18.4068\n",
            "Epoch 111/600\n",
            "7/7 [==============================] - 0s 4ms/step - loss: 17.1095\n",
            "Epoch 112/600\n",
            "7/7 [==============================] - 0s 3ms/step - loss: 17.8972\n",
            "Epoch 113/600\n",
            "7/7 [==============================] - 0s 3ms/step - loss: 16.7536\n",
            "Epoch 114/600\n",
            "7/7 [==============================] - 0s 3ms/step - loss: 18.2891\n",
            "Epoch 115/600\n",
            "7/7 [==============================] - 0s 2ms/step - loss: 16.6981\n",
            "Epoch 116/600\n",
            "7/7 [==============================] - 0s 3ms/step - loss: 18.9979\n",
            "Epoch 117/600\n",
            "7/7 [==============================] - 0s 3ms/step - loss: 19.2301\n",
            "Epoch 118/600\n",
            "7/7 [==============================] - 0s 2ms/step - loss: 17.5744\n",
            "Epoch 119/600\n",
            "7/7 [==============================] - 0s 3ms/step - loss: 17.9082\n",
            "Epoch 120/600\n",
            "7/7 [==============================] - 0s 3ms/step - loss: 17.6402\n",
            "Epoch 121/600\n",
            "7/7 [==============================] - 0s 2ms/step - loss: 16.2904\n",
            "Epoch 122/600\n",
            "7/7 [==============================] - 0s 2ms/step - loss: 19.3701\n",
            "Epoch 123/600\n",
            "7/7 [==============================] - 0s 2ms/step - loss: 17.4898\n",
            "Epoch 124/600\n",
            "7/7 [==============================] - 0s 3ms/step - loss: 16.8040\n",
            "Epoch 125/600\n",
            "7/7 [==============================] - 0s 2ms/step - loss: 16.5085\n",
            "Epoch 126/600\n",
            "7/7 [==============================] - 0s 4ms/step - loss: 18.4817\n",
            "Epoch 127/600\n",
            "7/7 [==============================] - 0s 2ms/step - loss: 17.1180\n",
            "Epoch 128/600\n",
            "7/7 [==============================] - 0s 2ms/step - loss: 17.0210\n",
            "Epoch 129/600\n",
            "7/7 [==============================] - 0s 3ms/step - loss: 18.2144\n",
            "Epoch 130/600\n",
            "7/7 [==============================] - 0s 2ms/step - loss: 18.3474\n",
            "Epoch 131/600\n",
            "7/7 [==============================] - 0s 3ms/step - loss: 19.0916\n",
            "Epoch 132/600\n",
            "7/7 [==============================] - 0s 3ms/step - loss: 18.3689\n",
            "Epoch 133/600\n",
            "7/7 [==============================] - 0s 3ms/step - loss: 16.1716\n",
            "Epoch 134/600\n",
            "7/7 [==============================] - 0s 3ms/step - loss: 19.4086\n",
            "Epoch 135/600\n",
            "7/7 [==============================] - 0s 2ms/step - loss: 16.4786\n",
            "Epoch 136/600\n",
            "7/7 [==============================] - 0s 2ms/step - loss: 16.1135\n",
            "Epoch 137/600\n",
            "7/7 [==============================] - 0s 2ms/step - loss: 18.4387\n",
            "Epoch 138/600\n",
            "7/7 [==============================] - 0s 2ms/step - loss: 18.4497\n",
            "Epoch 139/600\n",
            "7/7 [==============================] - 0s 2ms/step - loss: 18.3564\n",
            "Epoch 140/600\n",
            "7/7 [==============================] - 0s 2ms/step - loss: 16.6683\n",
            "Epoch 141/600\n",
            "7/7 [==============================] - 0s 2ms/step - loss: 17.3104\n",
            "Epoch 142/600\n",
            "7/7 [==============================] - 0s 2ms/step - loss: 16.6529\n",
            "Epoch 143/600\n",
            "7/7 [==============================] - 0s 2ms/step - loss: 16.0950\n",
            "Epoch 144/600\n",
            "7/7 [==============================] - 0s 1ms/step - loss: 14.8739\n",
            "Epoch 145/600\n",
            "7/7 [==============================] - 0s 1ms/step - loss: 17.9310\n",
            "Epoch 146/600\n",
            "7/7 [==============================] - 0s 2ms/step - loss: 16.4901\n",
            "Epoch 147/600\n",
            "7/7 [==============================] - 0s 3ms/step - loss: 17.4622\n",
            "Epoch 148/600\n",
            "7/7 [==============================] - 0s 3ms/step - loss: 16.7912\n",
            "Epoch 149/600\n",
            "7/7 [==============================] - 0s 2ms/step - loss: 17.4011\n",
            "Epoch 150/600\n",
            "7/7 [==============================] - 0s 3ms/step - loss: 15.9739\n",
            "Epoch 151/600\n",
            "7/7 [==============================] - 0s 2ms/step - loss: 18.4812\n",
            "Epoch 152/600\n",
            "7/7 [==============================] - 0s 3ms/step - loss: 16.2056\n",
            "Epoch 153/600\n",
            "7/7 [==============================] - 0s 3ms/step - loss: 16.9862\n",
            "Epoch 154/600\n",
            "7/7 [==============================] - 0s 3ms/step - loss: 16.8890\n",
            "Epoch 155/600\n",
            "7/7 [==============================] - 0s 3ms/step - loss: 15.4726\n",
            "Epoch 156/600\n",
            "7/7 [==============================] - 0s 2ms/step - loss: 16.6326\n",
            "Epoch 157/600\n",
            "7/7 [==============================] - 0s 2ms/step - loss: 16.5589\n",
            "Epoch 158/600\n",
            "7/7 [==============================] - 0s 2ms/step - loss: 14.7301\n",
            "Epoch 159/600\n",
            "7/7 [==============================] - 0s 2ms/step - loss: 17.4933\n",
            "Epoch 160/600\n",
            "7/7 [==============================] - 0s 3ms/step - loss: 16.5072\n",
            "Epoch 161/600\n",
            "7/7 [==============================] - 0s 2ms/step - loss: 15.2770\n",
            "Epoch 162/600\n",
            "7/7 [==============================] - 0s 2ms/step - loss: 15.8602\n",
            "Epoch 163/600\n",
            "7/7 [==============================] - 0s 4ms/step - loss: 14.9866\n",
            "Epoch 164/600\n",
            "7/7 [==============================] - 0s 3ms/step - loss: 16.4125\n",
            "Epoch 165/600\n",
            "7/7 [==============================] - 0s 2ms/step - loss: 16.3507\n",
            "Epoch 166/600\n",
            "7/7 [==============================] - 0s 2ms/step - loss: 15.3211\n",
            "Epoch 167/600\n",
            "7/7 [==============================] - 0s 2ms/step - loss: 14.4582\n",
            "Epoch 168/600\n",
            "7/7 [==============================] - 0s 3ms/step - loss: 15.0121\n",
            "Epoch 169/600\n",
            "7/7 [==============================] - 0s 2ms/step - loss: 14.5831\n",
            "Epoch 170/600\n",
            "7/7 [==============================] - 0s 2ms/step - loss: 15.2629\n",
            "Epoch 171/600\n",
            "7/7 [==============================] - 0s 2ms/step - loss: 15.1242\n",
            "Epoch 172/600\n",
            "7/7 [==============================] - 0s 2ms/step - loss: 17.8881\n",
            "Epoch 173/600\n",
            "7/7 [==============================] - 0s 3ms/step - loss: 16.4455\n",
            "Epoch 174/600\n",
            "7/7 [==============================] - 0s 3ms/step - loss: 15.0241\n",
            "Epoch 175/600\n",
            "7/7 [==============================] - 0s 3ms/step - loss: 14.1586\n",
            "Epoch 176/600\n",
            "7/7 [==============================] - 0s 2ms/step - loss: 15.7299\n",
            "Epoch 177/600\n",
            "7/7 [==============================] - 0s 2ms/step - loss: 15.7727\n",
            "Epoch 178/600\n",
            "7/7 [==============================] - 0s 4ms/step - loss: 15.3440\n",
            "Epoch 179/600\n",
            "7/7 [==============================] - 0s 2ms/step - loss: 16.3587\n",
            "Epoch 180/600\n",
            "7/7 [==============================] - 0s 2ms/step - loss: 14.6215\n",
            "Epoch 181/600\n",
            "7/7 [==============================] - 0s 3ms/step - loss: 15.3870\n",
            "Epoch 182/600\n",
            "7/7 [==============================] - 0s 2ms/step - loss: 15.4157\n",
            "Epoch 183/600\n",
            "7/7 [==============================] - 0s 2ms/step - loss: 15.0043\n",
            "Epoch 184/600\n",
            "7/7 [==============================] - 0s 3ms/step - loss: 14.2991\n",
            "Epoch 185/600\n",
            "7/7 [==============================] - 0s 2ms/step - loss: 15.5060\n",
            "Epoch 186/600\n",
            "7/7 [==============================] - 0s 2ms/step - loss: 14.9990\n",
            "Epoch 187/600\n",
            "7/7 [==============================] - 0s 2ms/step - loss: 15.0091\n",
            "Epoch 188/600\n",
            "7/7 [==============================] - 0s 3ms/step - loss: 14.6109\n",
            "Epoch 189/600\n",
            "7/7 [==============================] - 0s 3ms/step - loss: 14.9326\n",
            "Epoch 190/600\n",
            "7/7 [==============================] - 0s 3ms/step - loss: 15.7969\n",
            "Epoch 191/600\n",
            "7/7 [==============================] - 0s 3ms/step - loss: 14.8511\n",
            "Epoch 192/600\n",
            "7/7 [==============================] - 0s 3ms/step - loss: 14.1537\n",
            "Epoch 193/600\n",
            "7/7 [==============================] - 0s 5ms/step - loss: 15.5166\n",
            "Epoch 194/600\n",
            "7/7 [==============================] - 0s 2ms/step - loss: 14.9044\n",
            "Epoch 195/600\n",
            "7/7 [==============================] - 0s 2ms/step - loss: 14.2077\n",
            "Epoch 196/600\n",
            "7/7 [==============================] - 0s 3ms/step - loss: 14.8338\n",
            "Epoch 197/600\n",
            "7/7 [==============================] - 0s 5ms/step - loss: 16.3223\n",
            "Epoch 198/600\n",
            "7/7 [==============================] - 0s 2ms/step - loss: 14.4562\n",
            "Epoch 199/600\n",
            "7/7 [==============================] - 0s 2ms/step - loss: 13.9784\n",
            "Epoch 200/600\n",
            "7/7 [==============================] - 0s 2ms/step - loss: 13.5734\n",
            "Epoch 201/600\n",
            "7/7 [==============================] - 0s 3ms/step - loss: 14.6113\n",
            "Epoch 202/600\n",
            "7/7 [==============================] - 0s 2ms/step - loss: 13.7766\n",
            "Epoch 203/600\n",
            "7/7 [==============================] - 0s 2ms/step - loss: 14.6612\n",
            "Epoch 204/600\n",
            "7/7 [==============================] - 0s 3ms/step - loss: 14.0717\n",
            "Epoch 205/600\n",
            "7/7 [==============================] - 0s 2ms/step - loss: 13.9808\n",
            "Epoch 206/600\n",
            "7/7 [==============================] - 0s 3ms/step - loss: 13.9856\n",
            "Epoch 207/600\n",
            "7/7 [==============================] - 0s 3ms/step - loss: 13.3880\n",
            "Epoch 208/600\n",
            "7/7 [==============================] - 0s 2ms/step - loss: 14.6273\n",
            "Epoch 209/600\n",
            "7/7 [==============================] - 0s 2ms/step - loss: 13.6973\n",
            "Epoch 210/600\n",
            "7/7 [==============================] - 0s 3ms/step - loss: 15.5838\n",
            "Epoch 211/600\n",
            "7/7 [==============================] - 0s 2ms/step - loss: 14.8485\n",
            "Epoch 212/600\n",
            "7/7 [==============================] - 0s 2ms/step - loss: 13.7197\n",
            "Epoch 213/600\n",
            "7/7 [==============================] - 0s 3ms/step - loss: 13.9056\n",
            "Epoch 214/600\n",
            "7/7 [==============================] - 0s 3ms/step - loss: 13.8601\n",
            "Epoch 215/600\n",
            "7/7 [==============================] - 0s 2ms/step - loss: 14.5131\n",
            "Epoch 216/600\n",
            "7/7 [==============================] - 0s 2ms/step - loss: 14.0973\n",
            "Epoch 217/600\n",
            "7/7 [==============================] - 0s 2ms/step - loss: 14.8642\n",
            "Epoch 218/600\n",
            "7/7 [==============================] - 0s 2ms/step - loss: 14.0550\n",
            "Epoch 219/600\n",
            "7/7 [==============================] - 0s 3ms/step - loss: 15.4799\n",
            "Epoch 220/600\n",
            "7/7 [==============================] - 0s 3ms/step - loss: 14.2845\n",
            "Epoch 221/600\n",
            "7/7 [==============================] - 0s 2ms/step - loss: 13.2317\n",
            "Epoch 222/600\n",
            "7/7 [==============================] - 0s 3ms/step - loss: 13.7691\n",
            "Epoch 223/600\n",
            "7/7 [==============================] - 0s 3ms/step - loss: 14.5681\n",
            "Epoch 224/600\n",
            "7/7 [==============================] - 0s 3ms/step - loss: 13.9684\n",
            "Epoch 225/600\n",
            "7/7 [==============================] - 0s 3ms/step - loss: 12.6582\n",
            "Epoch 226/600\n",
            "7/7 [==============================] - 0s 2ms/step - loss: 13.7988\n",
            "Epoch 227/600\n",
            "7/7 [==============================] - 0s 3ms/step - loss: 14.1804\n",
            "Epoch 228/600\n",
            "7/7 [==============================] - 0s 3ms/step - loss: 13.9798\n",
            "Epoch 229/600\n",
            "7/7 [==============================] - 0s 3ms/step - loss: 15.0624\n",
            "Epoch 230/600\n",
            "7/7 [==============================] - 0s 2ms/step - loss: 13.7560\n",
            "Epoch 231/600\n",
            "7/7 [==============================] - 0s 2ms/step - loss: 12.7523\n",
            "Epoch 232/600\n",
            "7/7 [==============================] - 0s 3ms/step - loss: 13.2440\n",
            "Epoch 233/600\n",
            "7/7 [==============================] - 0s 2ms/step - loss: 13.7732\n",
            "Epoch 234/600\n",
            "7/7 [==============================] - 0s 3ms/step - loss: 13.1706\n",
            "Epoch 235/600\n",
            "7/7 [==============================] - 0s 3ms/step - loss: 13.7092\n",
            "Epoch 236/600\n",
            "7/7 [==============================] - 0s 2ms/step - loss: 12.7407\n",
            "Epoch 237/600\n",
            "7/7 [==============================] - 0s 3ms/step - loss: 13.5668\n",
            "Epoch 238/600\n",
            "7/7 [==============================] - 0s 2ms/step - loss: 14.1480\n",
            "Epoch 239/600\n",
            "7/7 [==============================] - 0s 2ms/step - loss: 13.9381\n",
            "Epoch 240/600\n",
            "7/7 [==============================] - 0s 2ms/step - loss: 13.4778\n",
            "Epoch 241/600\n",
            "7/7 [==============================] - 0s 2ms/step - loss: 14.2426\n",
            "Epoch 242/600\n",
            "7/7 [==============================] - 0s 3ms/step - loss: 12.3599\n",
            "Epoch 243/600\n",
            "7/7 [==============================] - 0s 3ms/step - loss: 12.4756\n",
            "Epoch 244/600\n",
            "7/7 [==============================] - 0s 3ms/step - loss: 15.0308\n",
            "Epoch 245/600\n",
            "7/7 [==============================] - 0s 2ms/step - loss: 13.7336\n",
            "Epoch 246/600\n",
            "7/7 [==============================] - 0s 2ms/step - loss: 13.3331\n",
            "Epoch 247/600\n",
            "7/7 [==============================] - 0s 2ms/step - loss: 12.4840\n",
            "Epoch 248/600\n",
            "7/7 [==============================] - 0s 3ms/step - loss: 14.4704\n",
            "Epoch 249/600\n",
            "7/7 [==============================] - 0s 3ms/step - loss: 12.9124\n",
            "Epoch 250/600\n",
            "7/7 [==============================] - 0s 3ms/step - loss: 13.0572\n",
            "Epoch 251/600\n",
            "7/7 [==============================] - 0s 3ms/step - loss: 12.7140\n",
            "Epoch 252/600\n",
            "7/7 [==============================] - 0s 2ms/step - loss: 12.8098\n",
            "Epoch 253/600\n",
            "7/7 [==============================] - 0s 3ms/step - loss: 12.8175\n",
            "Epoch 254/600\n",
            "7/7 [==============================] - 0s 2ms/step - loss: 13.5366\n",
            "Epoch 255/600\n",
            "7/7 [==============================] - 0s 2ms/step - loss: 12.3982\n",
            "Epoch 256/600\n",
            "7/7 [==============================] - 0s 2ms/step - loss: 13.6927\n",
            "Epoch 257/600\n",
            "7/7 [==============================] - 0s 3ms/step - loss: 12.5766\n",
            "Epoch 258/600\n",
            "7/7 [==============================] - 0s 3ms/step - loss: 12.6218\n",
            "Epoch 259/600\n",
            "7/7 [==============================] - 0s 2ms/step - loss: 13.2709\n",
            "Epoch 260/600\n",
            "7/7 [==============================] - 0s 2ms/step - loss: 13.7326\n",
            "Epoch 261/600\n",
            "7/7 [==============================] - 0s 2ms/step - loss: 12.6647\n",
            "Epoch 262/600\n",
            "7/7 [==============================] - 0s 3ms/step - loss: 12.2860\n",
            "Epoch 263/600\n",
            "7/7 [==============================] - 0s 2ms/step - loss: 13.8701\n",
            "Epoch 264/600\n",
            "7/7 [==============================] - 0s 2ms/step - loss: 11.6044\n",
            "Epoch 265/600\n",
            "7/7 [==============================] - 0s 2ms/step - loss: 13.0975\n",
            "Epoch 266/600\n",
            "7/7 [==============================] - 0s 2ms/step - loss: 12.0095\n",
            "Epoch 267/600\n",
            "7/7 [==============================] - 0s 2ms/step - loss: 12.7038\n",
            "Epoch 268/600\n",
            "7/7 [==============================] - 0s 2ms/step - loss: 13.0217\n",
            "Epoch 269/600\n",
            "7/7 [==============================] - 0s 2ms/step - loss: 12.4386\n",
            "Epoch 270/600\n",
            "7/7 [==============================] - 0s 2ms/step - loss: 12.7569\n",
            "Epoch 271/600\n",
            "7/7 [==============================] - 0s 2ms/step - loss: 14.0888\n",
            "Epoch 272/600\n",
            "7/7 [==============================] - 0s 3ms/step - loss: 11.7923\n",
            "Epoch 273/600\n",
            "7/7 [==============================] - 0s 2ms/step - loss: 13.7574\n",
            "Epoch 274/600\n",
            "7/7 [==============================] - 0s 2ms/step - loss: 11.8151\n",
            "Epoch 275/600\n",
            "7/7 [==============================] - 0s 3ms/step - loss: 13.0074\n",
            "Epoch 276/600\n",
            "7/7 [==============================] - 0s 3ms/step - loss: 12.5544\n",
            "Epoch 277/600\n",
            "7/7 [==============================] - 0s 3ms/step - loss: 11.8958\n",
            "Epoch 278/600\n",
            "7/7 [==============================] - 0s 4ms/step - loss: 12.4384\n",
            "Epoch 279/600\n",
            "7/7 [==============================] - 0s 2ms/step - loss: 12.3150\n",
            "Epoch 280/600\n",
            "7/7 [==============================] - 0s 3ms/step - loss: 13.2151\n",
            "Epoch 281/600\n",
            "7/7 [==============================] - 0s 3ms/step - loss: 13.2193\n",
            "Epoch 282/600\n",
            "7/7 [==============================] - 0s 2ms/step - loss: 12.2200\n",
            "Epoch 283/600\n",
            "7/7 [==============================] - 0s 2ms/step - loss: 11.2966\n",
            "Epoch 284/600\n",
            "7/7 [==============================] - 0s 2ms/step - loss: 13.4019\n",
            "Epoch 285/600\n",
            "7/7 [==============================] - 0s 2ms/step - loss: 10.9577\n",
            "Epoch 286/600\n",
            "7/7 [==============================] - 0s 2ms/step - loss: 13.4041\n",
            "Epoch 287/600\n",
            "7/7 [==============================] - 0s 2ms/step - loss: 13.7390\n",
            "Epoch 288/600\n",
            "7/7 [==============================] - 0s 3ms/step - loss: 11.4445\n",
            "Epoch 289/600\n",
            "7/7 [==============================] - 0s 2ms/step - loss: 11.9081\n",
            "Epoch 290/600\n",
            "7/7 [==============================] - 0s 2ms/step - loss: 11.9806\n",
            "Epoch 291/600\n",
            "7/7 [==============================] - 0s 3ms/step - loss: 13.0009\n",
            "Epoch 292/600\n",
            "7/7 [==============================] - 0s 3ms/step - loss: 12.1825\n",
            "Epoch 293/600\n",
            "7/7 [==============================] - 0s 3ms/step - loss: 12.1173\n",
            "Epoch 294/600\n",
            "7/7 [==============================] - 0s 3ms/step - loss: 11.1757\n",
            "Epoch 295/600\n",
            "7/7 [==============================] - 0s 2ms/step - loss: 12.5340\n",
            "Epoch 296/600\n",
            "7/7 [==============================] - 0s 2ms/step - loss: 12.9313\n",
            "Epoch 297/600\n",
            "7/7 [==============================] - 0s 4ms/step - loss: 12.4715\n",
            "Epoch 298/600\n",
            "7/7 [==============================] - 0s 2ms/step - loss: 12.4482\n",
            "Epoch 299/600\n",
            "7/7 [==============================] - 0s 4ms/step - loss: 11.6341\n",
            "Epoch 300/600\n",
            "7/7 [==============================] - 0s 2ms/step - loss: 11.0045\n",
            "Epoch 301/600\n",
            "7/7 [==============================] - 0s 3ms/step - loss: 11.4688\n",
            "Epoch 302/600\n",
            "7/7 [==============================] - 0s 2ms/step - loss: 11.3297\n",
            "Epoch 303/600\n",
            "7/7 [==============================] - 0s 2ms/step - loss: 11.8893\n",
            "Epoch 304/600\n",
            "7/7 [==============================] - 0s 3ms/step - loss: 12.2871\n",
            "Epoch 305/600\n",
            "7/7 [==============================] - 0s 2ms/step - loss: 11.3271\n",
            "Epoch 306/600\n",
            "7/7 [==============================] - 0s 2ms/step - loss: 11.7131\n",
            "Epoch 307/600\n",
            "7/7 [==============================] - 0s 2ms/step - loss: 11.4210\n",
            "Epoch 308/600\n",
            "7/7 [==============================] - 0s 2ms/step - loss: 12.5229\n",
            "Epoch 309/600\n",
            "7/7 [==============================] - 0s 2ms/step - loss: 12.1184\n",
            "Epoch 310/600\n",
            "7/7 [==============================] - 0s 4ms/step - loss: 11.7234\n",
            "Epoch 311/600\n",
            "7/7 [==============================] - 0s 3ms/step - loss: 11.5915\n",
            "Epoch 312/600\n",
            "7/7 [==============================] - 0s 3ms/step - loss: 11.4716\n",
            "Epoch 313/600\n",
            "7/7 [==============================] - 0s 4ms/step - loss: 12.4472\n",
            "Epoch 314/600\n",
            "7/7 [==============================] - 0s 3ms/step - loss: 11.8504\n",
            "Epoch 315/600\n",
            "7/7 [==============================] - 0s 3ms/step - loss: 11.4487\n",
            "Epoch 316/600\n",
            "7/7 [==============================] - 0s 3ms/step - loss: 11.8904\n",
            "Epoch 317/600\n",
            "7/7 [==============================] - 0s 3ms/step - loss: 11.5253\n",
            "Epoch 318/600\n",
            "7/7 [==============================] - 0s 3ms/step - loss: 11.0965\n",
            "Epoch 319/600\n",
            "7/7 [==============================] - 0s 3ms/step - loss: 12.9532\n",
            "Epoch 320/600\n",
            "7/7 [==============================] - 0s 3ms/step - loss: 11.9263\n",
            "Epoch 321/600\n",
            "7/7 [==============================] - 0s 2ms/step - loss: 11.4019\n",
            "Epoch 322/600\n",
            "7/7 [==============================] - 0s 3ms/step - loss: 12.0150\n",
            "Epoch 323/600\n",
            "7/7 [==============================] - 0s 3ms/step - loss: 11.2181\n",
            "Epoch 324/600\n",
            "7/7 [==============================] - 0s 3ms/step - loss: 11.7333\n",
            "Epoch 325/600\n",
            "7/7 [==============================] - 0s 3ms/step - loss: 11.7134\n",
            "Epoch 326/600\n",
            "7/7 [==============================] - 0s 3ms/step - loss: 11.9272\n",
            "Epoch 327/600\n",
            "7/7 [==============================] - 0s 3ms/step - loss: 12.8245\n",
            "Epoch 328/600\n",
            "7/7 [==============================] - 0s 3ms/step - loss: 12.3485\n",
            "Epoch 329/600\n",
            "7/7 [==============================] - 0s 3ms/step - loss: 11.7480\n",
            "Epoch 330/600\n",
            "7/7 [==============================] - 0s 4ms/step - loss: 11.6446\n",
            "Epoch 331/600\n",
            "7/7 [==============================] - 0s 3ms/step - loss: 11.8791\n",
            "Epoch 332/600\n",
            "7/7 [==============================] - 0s 3ms/step - loss: 11.8662\n",
            "Epoch 333/600\n",
            "7/7 [==============================] - 0s 3ms/step - loss: 11.5380\n",
            "Epoch 334/600\n",
            "7/7 [==============================] - 0s 2ms/step - loss: 12.3269\n",
            "Epoch 335/600\n",
            "7/7 [==============================] - 0s 2ms/step - loss: 10.8078\n",
            "Epoch 336/600\n",
            "7/7 [==============================] - 0s 2ms/step - loss: 10.7695\n",
            "Epoch 337/600\n",
            "7/7 [==============================] - 0s 5ms/step - loss: 12.0557\n",
            "Epoch 338/600\n",
            "7/7 [==============================] - 0s 2ms/step - loss: 11.3736\n",
            "Epoch 339/600\n",
            "7/7 [==============================] - 0s 3ms/step - loss: 11.2976\n",
            "Epoch 340/600\n",
            "7/7 [==============================] - 0s 3ms/step - loss: 12.2575\n",
            "Epoch 341/600\n",
            "7/7 [==============================] - 0s 2ms/step - loss: 11.1703\n",
            "Epoch 342/600\n",
            "7/7 [==============================] - 0s 3ms/step - loss: 11.2290\n",
            "Epoch 343/600\n",
            "7/7 [==============================] - 0s 2ms/step - loss: 10.5611\n",
            "Epoch 344/600\n",
            "7/7 [==============================] - 0s 2ms/step - loss: 12.5521\n",
            "Epoch 345/600\n",
            "7/7 [==============================] - 0s 3ms/step - loss: 11.1405\n",
            "Epoch 346/600\n",
            "7/7 [==============================] - 0s 2ms/step - loss: 12.3521\n",
            "Epoch 347/600\n",
            "7/7 [==============================] - 0s 6ms/step - loss: 11.4468\n",
            "Epoch 348/600\n",
            "7/7 [==============================] - 0s 5ms/step - loss: 10.8029\n",
            "Epoch 349/600\n",
            "7/7 [==============================] - 0s 3ms/step - loss: 11.7595\n",
            "Epoch 350/600\n",
            "7/7 [==============================] - 0s 3ms/step - loss: 11.6466\n",
            "Epoch 351/600\n",
            "7/7 [==============================] - 0s 3ms/step - loss: 12.2442\n",
            "Epoch 352/600\n",
            "7/7 [==============================] - 0s 2ms/step - loss: 10.4852\n",
            "Epoch 353/600\n",
            "7/7 [==============================] - 0s 2ms/step - loss: 10.3976\n",
            "Epoch 354/600\n",
            "7/7 [==============================] - 0s 2ms/step - loss: 11.2596\n",
            "Epoch 355/600\n",
            "7/7 [==============================] - 0s 2ms/step - loss: 12.6174\n",
            "Epoch 356/600\n",
            "7/7 [==============================] - 0s 2ms/step - loss: 11.2284\n",
            "Epoch 357/600\n",
            "7/7 [==============================] - 0s 6ms/step - loss: 10.4850\n",
            "Epoch 358/600\n",
            "7/7 [==============================] - 0s 3ms/step - loss: 11.1368\n",
            "Epoch 359/600\n",
            "7/7 [==============================] - 0s 2ms/step - loss: 11.7829\n",
            "Epoch 360/600\n",
            "7/7 [==============================] - 0s 3ms/step - loss: 11.2396\n",
            "Epoch 361/600\n",
            "7/7 [==============================] - 0s 4ms/step - loss: 9.6848\n",
            "Epoch 362/600\n",
            "7/7 [==============================] - 0s 3ms/step - loss: 12.6065\n",
            "Epoch 363/600\n",
            "7/7 [==============================] - 0s 3ms/step - loss: 11.6590\n",
            "Epoch 364/600\n",
            "7/7 [==============================] - 0s 3ms/step - loss: 11.9488\n",
            "Epoch 365/600\n",
            "7/7 [==============================] - 0s 2ms/step - loss: 10.7843\n",
            "Epoch 366/600\n",
            "7/7 [==============================] - 0s 2ms/step - loss: 10.8242\n",
            "Epoch 367/600\n",
            "7/7 [==============================] - 0s 3ms/step - loss: 11.7485\n",
            "Epoch 368/600\n",
            "7/7 [==============================] - 0s 2ms/step - loss: 11.4762\n",
            "Epoch 369/600\n",
            "7/7 [==============================] - 0s 2ms/step - loss: 11.1427\n",
            "Epoch 370/600\n",
            "7/7 [==============================] - 0s 5ms/step - loss: 11.3604\n",
            "Epoch 371/600\n",
            "7/7 [==============================] - 0s 3ms/step - loss: 11.6191\n",
            "Epoch 372/600\n",
            "7/7 [==============================] - 0s 3ms/step - loss: 11.3110\n",
            "Epoch 373/600\n",
            "7/7 [==============================] - 0s 4ms/step - loss: 10.9205\n",
            "Epoch 374/600\n",
            "7/7 [==============================] - 0s 2ms/step - loss: 10.0931\n",
            "Epoch 375/600\n",
            "7/7 [==============================] - 0s 2ms/step - loss: 11.3721\n",
            "Epoch 376/600\n",
            "7/7 [==============================] - 0s 3ms/step - loss: 12.1224\n",
            "Epoch 377/600\n",
            "7/7 [==============================] - 0s 3ms/step - loss: 11.1332\n",
            "Epoch 378/600\n",
            "7/7 [==============================] - 0s 3ms/step - loss: 10.1515\n",
            "Epoch 379/600\n",
            "7/7 [==============================] - 0s 4ms/step - loss: 11.7653\n",
            "Epoch 380/600\n",
            "7/7 [==============================] - 0s 3ms/step - loss: 11.1687\n",
            "Epoch 381/600\n",
            "7/7 [==============================] - 0s 3ms/step - loss: 11.2364\n",
            "Epoch 382/600\n",
            "7/7 [==============================] - 0s 3ms/step - loss: 10.9325\n",
            "Epoch 383/600\n",
            "7/7 [==============================] - 0s 3ms/step - loss: 10.6903\n",
            "Epoch 384/600\n",
            "7/7 [==============================] - 0s 3ms/step - loss: 11.3678\n",
            "Epoch 385/600\n",
            "7/7 [==============================] - 0s 2ms/step - loss: 10.1826\n",
            "Epoch 386/600\n",
            "7/7 [==============================] - 0s 2ms/step - loss: 10.4173\n",
            "Epoch 387/600\n",
            "7/7 [==============================] - 0s 3ms/step - loss: 10.2204\n",
            "Epoch 388/600\n",
            "7/7 [==============================] - 0s 3ms/step - loss: 11.9580\n",
            "Epoch 389/600\n",
            "7/7 [==============================] - 0s 2ms/step - loss: 10.8243\n",
            "Epoch 390/600\n",
            "7/7 [==============================] - 0s 3ms/step - loss: 10.7054\n",
            "Epoch 391/600\n",
            "7/7 [==============================] - 0s 4ms/step - loss: 11.5044\n",
            "Epoch 392/600\n",
            "7/7 [==============================] - 0s 3ms/step - loss: 10.6172\n",
            "Epoch 393/600\n",
            "7/7 [==============================] - 0s 3ms/step - loss: 11.0733\n",
            "Epoch 394/600\n",
            "7/7 [==============================] - 0s 3ms/step - loss: 11.1386\n",
            "Epoch 395/600\n",
            "7/7 [==============================] - 0s 6ms/step - loss: 11.3028\n",
            "Epoch 396/600\n",
            "7/7 [==============================] - 0s 2ms/step - loss: 10.7107\n",
            "Epoch 397/600\n",
            "7/7 [==============================] - 0s 2ms/step - loss: 11.9138\n",
            "Epoch 398/600\n",
            "7/7 [==============================] - 0s 2ms/step - loss: 11.7859\n",
            "Epoch 399/600\n",
            "7/7 [==============================] - 0s 3ms/step - loss: 11.2230\n",
            "Epoch 400/600\n",
            "7/7 [==============================] - 0s 2ms/step - loss: 10.9071\n",
            "Epoch 401/600\n",
            "7/7 [==============================] - 0s 3ms/step - loss: 9.5562\n",
            "Epoch 402/600\n",
            "7/7 [==============================] - 0s 2ms/step - loss: 9.9872\n",
            "Epoch 403/600\n",
            "7/7 [==============================] - 0s 2ms/step - loss: 10.6679\n",
            "Epoch 404/600\n",
            "7/7 [==============================] - 0s 2ms/step - loss: 12.2354\n",
            "Epoch 405/600\n",
            "7/7 [==============================] - 0s 3ms/step - loss: 11.5949\n",
            "Epoch 406/600\n",
            "7/7 [==============================] - 0s 3ms/step - loss: 10.7849\n",
            "Epoch 407/600\n",
            "7/7 [==============================] - 0s 2ms/step - loss: 10.9921\n",
            "Epoch 408/600\n",
            "7/7 [==============================] - 0s 2ms/step - loss: 9.4957\n",
            "Epoch 409/600\n",
            "7/7 [==============================] - 0s 2ms/step - loss: 9.2225\n",
            "Epoch 410/600\n",
            "7/7 [==============================] - 0s 6ms/step - loss: 10.7807\n",
            "Epoch 411/600\n",
            "7/7 [==============================] - 0s 3ms/step - loss: 10.0600\n",
            "Epoch 412/600\n",
            "7/7 [==============================] - 0s 2ms/step - loss: 10.2390\n",
            "Epoch 413/600\n",
            "7/7 [==============================] - 0s 3ms/step - loss: 10.8456\n",
            "Epoch 414/600\n",
            "7/7 [==============================] - 0s 4ms/step - loss: 10.5770\n",
            "Epoch 415/600\n",
            "7/7 [==============================] - 0s 3ms/step - loss: 11.1682\n",
            "Epoch 416/600\n",
            "7/7 [==============================] - 0s 3ms/step - loss: 9.8704\n",
            "Epoch 417/600\n",
            "7/7 [==============================] - 0s 4ms/step - loss: 10.9055\n",
            "Epoch 418/600\n",
            "7/7 [==============================] - 0s 4ms/step - loss: 11.2191\n",
            "Epoch 419/600\n",
            "7/7 [==============================] - 0s 3ms/step - loss: 10.5567\n",
            "Epoch 420/600\n",
            "7/7 [==============================] - 0s 2ms/step - loss: 10.5502\n",
            "Epoch 421/600\n",
            "7/7 [==============================] - 0s 3ms/step - loss: 10.8319\n",
            "Epoch 422/600\n",
            "7/7 [==============================] - 0s 3ms/step - loss: 10.5540\n",
            "Epoch 423/600\n",
            "7/7 [==============================] - 0s 3ms/step - loss: 11.7060\n",
            "Epoch 424/600\n",
            "7/7 [==============================] - 0s 4ms/step - loss: 11.0050\n",
            "Epoch 425/600\n",
            "7/7 [==============================] - 0s 3ms/step - loss: 10.2733\n",
            "Epoch 426/600\n",
            "7/7 [==============================] - 0s 3ms/step - loss: 9.7697\n",
            "Epoch 427/600\n",
            "7/7 [==============================] - 0s 3ms/step - loss: 10.8455\n",
            "Epoch 428/600\n",
            "7/7 [==============================] - 0s 3ms/step - loss: 10.8984\n",
            "Epoch 429/600\n",
            "7/7 [==============================] - 0s 3ms/step - loss: 10.7896\n",
            "Epoch 430/600\n",
            "7/7 [==============================] - 0s 3ms/step - loss: 11.3529\n",
            "Epoch 431/600\n",
            "7/7 [==============================] - 0s 3ms/step - loss: 10.9197\n",
            "Epoch 432/600\n",
            "7/7 [==============================] - 0s 3ms/step - loss: 10.8812\n",
            "Epoch 433/600\n",
            "7/7 [==============================] - 0s 2ms/step - loss: 11.2571\n",
            "Epoch 434/600\n",
            "7/7 [==============================] - 0s 3ms/step - loss: 10.4725\n",
            "Epoch 435/600\n",
            "7/7 [==============================] - 0s 2ms/step - loss: 11.7498\n",
            "Epoch 436/600\n",
            "7/7 [==============================] - 0s 3ms/step - loss: 11.0047\n",
            "Epoch 437/600\n",
            "7/7 [==============================] - 0s 3ms/step - loss: 12.7437\n",
            "Epoch 438/600\n",
            "7/7 [==============================] - 0s 3ms/step - loss: 10.4420\n",
            "Epoch 439/600\n",
            "7/7 [==============================] - 0s 3ms/step - loss: 10.5735\n",
            "Epoch 440/600\n",
            "7/7 [==============================] - 0s 3ms/step - loss: 10.1115\n",
            "Epoch 441/600\n",
            "7/7 [==============================] - 0s 4ms/step - loss: 10.8747\n",
            "Epoch 442/600\n",
            "7/7 [==============================] - 0s 3ms/step - loss: 12.3014\n",
            "Epoch 443/600\n",
            "7/7 [==============================] - 0s 2ms/step - loss: 9.9324\n",
            "Epoch 444/600\n",
            "7/7 [==============================] - 0s 2ms/step - loss: 10.9626\n",
            "Epoch 445/600\n",
            "7/7 [==============================] - 0s 3ms/step - loss: 10.9677\n",
            "Epoch 446/600\n",
            "7/7 [==============================] - 0s 3ms/step - loss: 10.1943\n",
            "Epoch 447/600\n",
            "7/7 [==============================] - 0s 3ms/step - loss: 11.4892\n",
            "Epoch 448/600\n",
            "7/7 [==============================] - 0s 4ms/step - loss: 11.1413\n",
            "Epoch 449/600\n",
            "7/7 [==============================] - 0s 3ms/step - loss: 10.8513\n",
            "Epoch 450/600\n",
            "7/7 [==============================] - 0s 3ms/step - loss: 11.2260\n",
            "Epoch 451/600\n",
            "7/7 [==============================] - 0s 3ms/step - loss: 10.6446\n",
            "Epoch 452/600\n",
            "7/7 [==============================] - 0s 2ms/step - loss: 10.0632\n",
            "Epoch 453/600\n",
            "7/7 [==============================] - 0s 3ms/step - loss: 12.1025\n",
            "Epoch 454/600\n",
            "7/7 [==============================] - 0s 3ms/step - loss: 10.7815\n",
            "Epoch 455/600\n",
            "7/7 [==============================] - 0s 3ms/step - loss: 12.4533\n",
            "Epoch 456/600\n",
            "7/7 [==============================] - 0s 3ms/step - loss: 11.2583\n",
            "Epoch 457/600\n",
            "7/7 [==============================] - 0s 2ms/step - loss: 9.9594\n",
            "Epoch 458/600\n",
            "7/7 [==============================] - 0s 3ms/step - loss: 9.7290\n",
            "Epoch 459/600\n",
            "7/7 [==============================] - 0s 4ms/step - loss: 10.9052\n",
            "Epoch 460/600\n",
            "7/7 [==============================] - 0s 4ms/step - loss: 11.6791\n",
            "Epoch 461/600\n",
            "7/7 [==============================] - 0s 3ms/step - loss: 9.7897\n",
            "Epoch 462/600\n",
            "7/7 [==============================] - 0s 3ms/step - loss: 11.5179\n",
            "Epoch 463/600\n",
            "7/7 [==============================] - 0s 3ms/step - loss: 10.2766\n",
            "Epoch 464/600\n",
            "7/7 [==============================] - 0s 2ms/step - loss: 11.2569\n",
            "Epoch 465/600\n",
            "7/7 [==============================] - 0s 2ms/step - loss: 11.7277\n",
            "Epoch 466/600\n",
            "7/7 [==============================] - 0s 3ms/step - loss: 11.8595\n",
            "Epoch 467/600\n",
            "7/7 [==============================] - 0s 3ms/step - loss: 10.8826\n",
            "Epoch 468/600\n",
            "7/7 [==============================] - 0s 3ms/step - loss: 10.4093\n",
            "Epoch 469/600\n",
            "7/7 [==============================] - 0s 3ms/step - loss: 11.5503\n",
            "Epoch 470/600\n",
            "7/7 [==============================] - 0s 2ms/step - loss: 10.9599\n",
            "Epoch 471/600\n",
            "7/7 [==============================] - 0s 3ms/step - loss: 11.3752\n",
            "Epoch 472/600\n",
            "7/7 [==============================] - 0s 3ms/step - loss: 9.7347\n",
            "Epoch 473/600\n",
            "7/7 [==============================] - 0s 2ms/step - loss: 10.8426\n",
            "Epoch 474/600\n",
            "7/7 [==============================] - 0s 2ms/step - loss: 10.6486\n",
            "Epoch 475/600\n",
            "7/7 [==============================] - 0s 2ms/step - loss: 11.8659\n",
            "Epoch 476/600\n",
            "7/7 [==============================] - 0s 3ms/step - loss: 9.4665\n",
            "Epoch 477/600\n",
            "7/7 [==============================] - 0s 2ms/step - loss: 10.6017\n",
            "Epoch 478/600\n",
            "7/7 [==============================] - 0s 2ms/step - loss: 11.2756\n",
            "Epoch 479/600\n",
            "7/7 [==============================] - 0s 2ms/step - loss: 10.3248\n",
            "Epoch 480/600\n",
            "7/7 [==============================] - 0s 3ms/step - loss: 10.3822\n",
            "Epoch 481/600\n",
            "7/7 [==============================] - 0s 2ms/step - loss: 11.6186\n",
            "Epoch 482/600\n",
            "7/7 [==============================] - 0s 2ms/step - loss: 11.0636\n",
            "Epoch 483/600\n",
            "7/7 [==============================] - 0s 2ms/step - loss: 10.6061\n",
            "Epoch 484/600\n",
            "7/7 [==============================] - 0s 2ms/step - loss: 10.6232\n",
            "Epoch 485/600\n",
            "7/7 [==============================] - 0s 3ms/step - loss: 10.6847\n",
            "Epoch 486/600\n",
            "7/7 [==============================] - 0s 5ms/step - loss: 9.5095\n",
            "Epoch 487/600\n",
            "7/7 [==============================] - 0s 3ms/step - loss: 10.1436\n",
            "Epoch 488/600\n",
            "7/7 [==============================] - 0s 2ms/step - loss: 9.4124\n",
            "Epoch 489/600\n",
            "7/7 [==============================] - 0s 3ms/step - loss: 11.4930\n",
            "Epoch 490/600\n",
            "7/7 [==============================] - 0s 4ms/step - loss: 11.5644\n",
            "Epoch 491/600\n",
            "7/7 [==============================] - 0s 3ms/step - loss: 11.4329\n",
            "Epoch 492/600\n",
            "7/7 [==============================] - 0s 3ms/step - loss: 11.9558\n",
            "Epoch 493/600\n",
            "7/7 [==============================] - 0s 2ms/step - loss: 11.2742\n",
            "Epoch 494/600\n",
            "7/7 [==============================] - 0s 3ms/step - loss: 11.0541\n",
            "Epoch 495/600\n",
            "7/7 [==============================] - 0s 2ms/step - loss: 10.5547\n",
            "Epoch 496/600\n",
            "7/7 [==============================] - 0s 2ms/step - loss: 11.2831\n",
            "Epoch 497/600\n",
            "7/7 [==============================] - 0s 3ms/step - loss: 12.0597\n",
            "Epoch 498/600\n",
            "7/7 [==============================] - 0s 4ms/step - loss: 10.9650\n",
            "Epoch 499/600\n",
            "7/7 [==============================] - 0s 2ms/step - loss: 11.5314\n",
            "Epoch 500/600\n",
            "7/7 [==============================] - 0s 4ms/step - loss: 10.7933\n",
            "Epoch 501/600\n",
            "7/7 [==============================] - 0s 3ms/step - loss: 10.9810\n",
            "Epoch 502/600\n",
            "7/7 [==============================] - 0s 2ms/step - loss: 10.4430\n",
            "Epoch 503/600\n",
            "7/7 [==============================] - 0s 2ms/step - loss: 10.0792\n",
            "Epoch 504/600\n",
            "7/7 [==============================] - 0s 2ms/step - loss: 11.8495\n",
            "Epoch 505/600\n",
            "7/7 [==============================] - 0s 3ms/step - loss: 10.3526\n",
            "Epoch 506/600\n",
            "7/7 [==============================] - 0s 2ms/step - loss: 10.7110\n",
            "Epoch 507/600\n",
            "7/7 [==============================] - 0s 2ms/step - loss: 10.8804\n",
            "Epoch 508/600\n",
            "7/7 [==============================] - 0s 2ms/step - loss: 9.8831\n",
            "Epoch 509/600\n",
            "7/7 [==============================] - 0s 3ms/step - loss: 9.5894\n",
            "Epoch 510/600\n",
            "7/7 [==============================] - 0s 2ms/step - loss: 10.9537\n",
            "Epoch 511/600\n",
            "7/7 [==============================] - 0s 2ms/step - loss: 10.4195\n",
            "Epoch 512/600\n",
            "7/7 [==============================] - 0s 3ms/step - loss: 9.9109\n",
            "Epoch 513/600\n",
            "7/7 [==============================] - 0s 3ms/step - loss: 10.5079\n",
            "Epoch 514/600\n",
            "7/7 [==============================] - 0s 2ms/step - loss: 11.8769\n",
            "Epoch 515/600\n",
            "7/7 [==============================] - 0s 2ms/step - loss: 10.2424\n",
            "Epoch 516/600\n",
            "7/7 [==============================] - 0s 2ms/step - loss: 10.2463\n",
            "Epoch 517/600\n",
            "7/7 [==============================] - 0s 2ms/step - loss: 11.7012\n",
            "Epoch 518/600\n",
            "7/7 [==============================] - 0s 2ms/step - loss: 12.0973\n",
            "Epoch 519/600\n",
            "7/7 [==============================] - 0s 2ms/step - loss: 10.5424\n",
            "Epoch 520/600\n",
            "7/7 [==============================] - 0s 3ms/step - loss: 11.1176\n",
            "Epoch 521/600\n",
            "7/7 [==============================] - 0s 3ms/step - loss: 11.5262\n",
            "Epoch 522/600\n",
            "7/7 [==============================] - 0s 3ms/step - loss: 10.4975\n",
            "Epoch 523/600\n",
            "7/7 [==============================] - 0s 2ms/step - loss: 10.5352\n",
            "Epoch 524/600\n",
            "7/7 [==============================] - 0s 2ms/step - loss: 10.5725\n",
            "Epoch 525/600\n",
            "7/7 [==============================] - 0s 7ms/step - loss: 10.5934\n",
            "Epoch 526/600\n",
            "7/7 [==============================] - 0s 3ms/step - loss: 11.0005\n",
            "Epoch 527/600\n",
            "7/7 [==============================] - 0s 3ms/step - loss: 10.6737\n",
            "Epoch 528/600\n",
            "7/7 [==============================] - 0s 2ms/step - loss: 11.1429\n",
            "Epoch 529/600\n",
            "7/7 [==============================] - 0s 2ms/step - loss: 12.1016\n",
            "Epoch 530/600\n",
            "7/7 [==============================] - 0s 2ms/step - loss: 10.1428\n",
            "Epoch 531/600\n",
            "7/7 [==============================] - 0s 4ms/step - loss: 9.3858\n",
            "Epoch 532/600\n",
            "7/7 [==============================] - 0s 3ms/step - loss: 9.7751\n",
            "Epoch 533/600\n",
            "7/7 [==============================] - 0s 2ms/step - loss: 10.9602\n",
            "Epoch 534/600\n",
            "7/7 [==============================] - 0s 2ms/step - loss: 11.1838\n",
            "Epoch 535/600\n",
            "7/7 [==============================] - 0s 2ms/step - loss: 10.4033\n",
            "Epoch 536/600\n",
            "7/7 [==============================] - 0s 3ms/step - loss: 10.8358\n",
            "Epoch 537/600\n",
            "7/7 [==============================] - 0s 4ms/step - loss: 9.8041\n",
            "Epoch 538/600\n",
            "7/7 [==============================] - 0s 3ms/step - loss: 10.4138\n",
            "Epoch 539/600\n",
            "7/7 [==============================] - 0s 3ms/step - loss: 11.3785\n",
            "Epoch 540/600\n",
            "7/7 [==============================] - 0s 2ms/step - loss: 11.5638\n",
            "Epoch 541/600\n",
            "7/7 [==============================] - 0s 4ms/step - loss: 12.2136\n",
            "Epoch 542/600\n",
            "7/7 [==============================] - 0s 3ms/step - loss: 10.4512\n",
            "Epoch 543/600\n",
            "7/7 [==============================] - 0s 2ms/step - loss: 10.8483\n",
            "Epoch 544/600\n",
            "7/7 [==============================] - 0s 2ms/step - loss: 10.8717\n",
            "Epoch 545/600\n",
            "7/7 [==============================] - 0s 3ms/step - loss: 11.5756\n",
            "Epoch 546/600\n",
            "7/7 [==============================] - 0s 2ms/step - loss: 12.2890\n",
            "Epoch 547/600\n",
            "7/7 [==============================] - 0s 2ms/step - loss: 10.3419\n",
            "Epoch 548/600\n",
            "7/7 [==============================] - 0s 3ms/step - loss: 10.7007\n",
            "Epoch 549/600\n",
            "7/7 [==============================] - 0s 2ms/step - loss: 11.5834\n",
            "Epoch 550/600\n",
            "7/7 [==============================] - 0s 2ms/step - loss: 10.0189\n",
            "Epoch 551/600\n",
            "7/7 [==============================] - 0s 2ms/step - loss: 10.5330\n",
            "Epoch 552/600\n",
            "7/7 [==============================] - 0s 2ms/step - loss: 9.9070\n",
            "Epoch 553/600\n",
            "7/7 [==============================] - 0s 2ms/step - loss: 9.9326\n",
            "Epoch 554/600\n",
            "7/7 [==============================] - 0s 2ms/step - loss: 10.0242\n",
            "Epoch 555/600\n",
            "7/7 [==============================] - 0s 2ms/step - loss: 11.2998\n",
            "Epoch 556/600\n",
            "7/7 [==============================] - 0s 2ms/step - loss: 10.2978\n",
            "Epoch 557/600\n",
            "7/7 [==============================] - 0s 2ms/step - loss: 10.7633\n",
            "Epoch 558/600\n",
            "7/7 [==============================] - 0s 2ms/step - loss: 11.2306\n",
            "Epoch 559/600\n",
            "7/7 [==============================] - 0s 2ms/step - loss: 10.6236\n",
            "Epoch 560/600\n",
            "7/7 [==============================] - 0s 2ms/step - loss: 10.4261\n",
            "Epoch 561/600\n",
            "7/7 [==============================] - 0s 2ms/step - loss: 11.1046\n",
            "Epoch 562/600\n",
            "7/7 [==============================] - 0s 2ms/step - loss: 11.2718\n",
            "Epoch 563/600\n",
            "7/7 [==============================] - 0s 2ms/step - loss: 9.4634\n",
            "Epoch 564/600\n",
            "7/7 [==============================] - 0s 3ms/step - loss: 10.0969\n",
            "Epoch 565/600\n",
            "7/7 [==============================] - 0s 2ms/step - loss: 11.0184\n",
            "Epoch 566/600\n",
            "7/7 [==============================] - 0s 2ms/step - loss: 11.1692\n",
            "Epoch 567/600\n",
            "7/7 [==============================] - 0s 2ms/step - loss: 9.7791\n",
            "Epoch 568/600\n",
            "7/7 [==============================] - 0s 3ms/step - loss: 10.7209\n",
            "Epoch 569/600\n",
            "7/7 [==============================] - 0s 2ms/step - loss: 10.7051\n",
            "Epoch 570/600\n",
            "7/7 [==============================] - 0s 3ms/step - loss: 11.3976\n",
            "Epoch 571/600\n",
            "7/7 [==============================] - 0s 6ms/step - loss: 11.4659\n",
            "Epoch 572/600\n",
            "7/7 [==============================] - 0s 3ms/step - loss: 11.1666\n",
            "Epoch 573/600\n",
            "7/7 [==============================] - 0s 2ms/step - loss: 10.5036\n",
            "Epoch 574/600\n",
            "7/7 [==============================] - 0s 5ms/step - loss: 11.5212\n",
            "Epoch 575/600\n",
            "7/7 [==============================] - 0s 7ms/step - loss: 11.7302\n",
            "Epoch 576/600\n",
            "7/7 [==============================] - 0s 4ms/step - loss: 9.9572\n",
            "Epoch 577/600\n",
            "7/7 [==============================] - 0s 4ms/step - loss: 11.3083\n",
            "Epoch 578/600\n",
            "7/7 [==============================] - 0s 5ms/step - loss: 9.8157\n",
            "Epoch 579/600\n",
            "7/7 [==============================] - 0s 5ms/step - loss: 10.4086\n",
            "Epoch 580/600\n",
            "7/7 [==============================] - 0s 3ms/step - loss: 10.8292\n",
            "Epoch 581/600\n",
            "7/7 [==============================] - 0s 3ms/step - loss: 9.7998\n",
            "Epoch 582/600\n",
            "7/7 [==============================] - 0s 2ms/step - loss: 10.4299\n",
            "Epoch 583/600\n",
            "7/7 [==============================] - 0s 2ms/step - loss: 10.3721\n",
            "Epoch 584/600\n",
            "7/7 [==============================] - 0s 2ms/step - loss: 11.3388\n",
            "Epoch 585/600\n",
            "7/7 [==============================] - 0s 2ms/step - loss: 9.5584\n",
            "Epoch 586/600\n",
            "7/7 [==============================] - 0s 3ms/step - loss: 11.0910\n",
            "Epoch 587/600\n",
            "7/7 [==============================] - 0s 3ms/step - loss: 11.1743\n",
            "Epoch 588/600\n",
            "7/7 [==============================] - 0s 4ms/step - loss: 9.6441\n",
            "Epoch 589/600\n",
            "7/7 [==============================] - 0s 3ms/step - loss: 10.8788\n",
            "Epoch 590/600\n",
            "7/7 [==============================] - 0s 3ms/step - loss: 10.2327\n",
            "Epoch 591/600\n",
            "7/7 [==============================] - 0s 4ms/step - loss: 10.4500\n",
            "Epoch 592/600\n",
            "7/7 [==============================] - 0s 3ms/step - loss: 10.1883\n",
            "Epoch 593/600\n",
            "7/7 [==============================] - 0s 3ms/step - loss: 10.2688\n",
            "Epoch 594/600\n",
            "7/7 [==============================] - 0s 3ms/step - loss: 10.5342\n",
            "Epoch 595/600\n",
            "7/7 [==============================] - 0s 4ms/step - loss: 9.5533\n",
            "Epoch 596/600\n",
            "7/7 [==============================] - 0s 3ms/step - loss: 11.1020\n",
            "Epoch 597/600\n",
            "7/7 [==============================] - 0s 3ms/step - loss: 11.0605\n",
            "Epoch 598/600\n",
            "7/7 [==============================] - 0s 4ms/step - loss: 9.1018\n",
            "Epoch 599/600\n",
            "7/7 [==============================] - 0s 3ms/step - loss: 11.3249\n",
            "Epoch 600/600\n",
            "7/7 [==============================] - 0s 3ms/step - loss: 10.7031\n"
          ],
          "name": "stdout"
        }
      ]
    },
    {
      "cell_type": "code",
      "metadata": {
        "colab": {
          "base_uri": "https://localhost:8080/"
        },
        "id": "7mZbDdXONGEy",
        "outputId": "d430aaf6-792c-4892-df07-8e22d6292490"
      },
      "source": [
        "model.summary()"
      ],
      "execution_count": 19,
      "outputs": [
        {
          "output_type": "stream",
          "text": [
            "Model: \"sequential_1\"\n",
            "_________________________________________________________________\n",
            "Layer (type)                 Output Shape              Param #   \n",
            "=================================================================\n",
            "dense_1 (Dense)              (None, 1)                 2         \n",
            "=================================================================\n",
            "Total params: 2\n",
            "Trainable params: 2\n",
            "Non-trainable params: 0\n",
            "_________________________________________________________________\n"
          ],
          "name": "stdout"
        }
      ]
    },
    {
      "cell_type": "code",
      "metadata": {
        "colab": {
          "base_uri": "https://localhost:8080/",
          "height": 282
        },
        "id": "ymwSdKF-NHcH",
        "outputId": "31e2bce0-90eb-4869-e11c-0bdb2dfe9dd9"
      },
      "source": [
        "plt.scatter(X,Y,color='black')\n",
        "plt.plot(X,model.predict(X),color='green')"
      ],
      "execution_count": 20,
      "outputs": [
        {
          "output_type": "execute_result",
          "data": {
            "text/plain": [
              "[<matplotlib.lines.Line2D at 0x7f236ba7b390>]"
            ]
          },
          "metadata": {
            "tags": []
          },
          "execution_count": 20
        },
        {
          "output_type": "display_data",
          "data": {
            "image/png": "[encoded data removed]",
            "text/plain": [
              "<Figure size 432x288 with 1 Axes>"
            ]
          },
          "metadata": {
            "tags": [],
            "needs_background": "light"
          }
        }
      ]
    },
    {
      "cell_type": "code",
      "metadata": {
        "colab": {
          "base_uri": "https://localhost:8080/"
        },
        "id": "gOaU_5IhNX3z",
        "outputId": "8c384686-8314-4a08-d2be-f199aa24d752"
      },
      "source": [
        "model.predict([10.5])"
      ],
      "execution_count": 21,
      "outputs": [
        {
          "output_type": "execute_result",
          "data": {
            "text/plain": [
              "array([[7.402348]], dtype=float32)"
            ]
          },
          "metadata": {
            "tags": []
          },
          "execution_count": 21
        }
      ]
    },
    {
      "cell_type": "code",
      "metadata": {
        "colab": {
          "base_uri": "https://localhost:8080/",
          "height": 282
        },
        "id": "VG7T5UT0OiTt",
        "outputId": "168cb6a1-2bd6-4dc7-a246-109186e4f6f7"
      },
      "source": [
        "plt.plot(history.history['loss'])"
      ],
      "execution_count": 22,
      "outputs": [
        {
          "output_type": "execute_result",
          "data": {
            "text/plain": [
              "[<matplotlib.lines.Line2D at 0x7f236b1dcb50>]"
            ]
          },
          "metadata": {
            "tags": []
          },
          "execution_count": 22
        },
        {
          "output_type": "display_data",
          "data": {
            "image/png": "[encoded data removed]",
            "text/plain": [
              "<Figure size 432x288 with 1 Axes>"
            ]
          },
          "metadata": {
            "tags": [],
            "needs_background": "light"
          }
        }
      ]
    },
    {
      "cell_type": "markdown",
      "metadata": {
        "id": "sPn2PYUlPDxx"
      },
      "source": [
        "# **Fashion MNIST**"
      ]
    },
    {
      "cell_type": "code",
      "metadata": {
        "id": "y8wKEygaRACN"
      },
      "source": [
        "import tensorflow as tf\n",
        "import numpy as np\n",
        "import matplotlib.pyplot as plt\n",
        "from tensorflow import keras"
      ],
      "execution_count": 23,
      "outputs": []
    },
    {
      "cell_type": "code",
      "metadata": {
        "id": "dV0mZML7QRwr"
      },
      "source": [
        "fashion_mnist = keras.datasets.fashion_mnist"
      ],
      "execution_count": 24,
      "outputs": []
    },
    {
      "cell_type": "code",
      "metadata": {
        "colab": {
          "base_uri": "https://localhost:8080/"
        },
        "id": "q0DWhYxdQsvL",
        "outputId": "e52ae955-a1a6-45e4-a611-5663c2cc706d"
      },
      "source": [
        "(X_train,y_train), (X_test,y_test) = fashion_mnist.load_data()"
      ],
      "execution_count": 25,
      "outputs": [
        {
          "output_type": "stream",
          "text": [
            "Downloading data from https://storage.googleapis.com/tensorflow/tf-keras-datasets/train-labels-idx1-ubyte.gz\n",
            "32768/29515 [=================================] - 0s 0us/step\n",
            "Downloading data from https://storage.googleapis.com/tensorflow/tf-keras-datasets/train-images-idx3-ubyte.gz\n",
            "26427392/26421880 [==============================] - 0s 0us/step\n",
            "Downloading data from https://storage.googleapis.com/tensorflow/tf-keras-datasets/t10k-labels-idx1-ubyte.gz\n",
            "8192/5148 [===============================================] - 0s 0us/step\n",
            "Downloading data from https://storage.googleapis.com/tensorflow/tf-keras-datasets/t10k-images-idx3-ubyte.gz\n",
            "4423680/4422102 [==============================] - 0s 0us/step\n"
          ],
          "name": "stdout"
        }
      ]
    },
    {
      "cell_type": "markdown",
      "metadata": {
        "id": "RliMAJfdScOQ"
      },
      "source": [
        "\n",
        "Fashion MNIST Dataset Labels<br>\n",
        "0\tT-shirt/top<br>\n",
        "1\tTrouser<br>\n",
        "2\tPullover<br>\n",
        "3\tDress<br>\n",
        "4\tCoat<br>\n",
        "5\tSandal<br>\n",
        "6\tShirt<br>\n",
        "7\tSneaker<br>\n",
        "8\tBag<br>\n",
        "9\tAnkle boo<br>"
      ]
    },
    {
      "cell_type": "code",
      "metadata": {
        "colab": {
          "base_uri": "https://localhost:8080/",
          "height": 292
        },
        "id": "CIr0pjyeRsIR",
        "outputId": "bf98abc5-665e-4657-9176-b103b6a4fb2a"
      },
      "source": [
        "plt.matshow(X_train[0])"
      ],
      "execution_count": 26,
      "outputs": [
        {
          "output_type": "execute_result",
          "data": {
            "text/plain": [
              "<matplotlib.image.AxesImage at 0x7f236a9983d0>"
            ]
          },
          "metadata": {
            "tags": []
          },
          "execution_count": 26
        },
        {
          "output_type": "display_data",
          "data": {
            "image/png": "[encoded data removed]",
            "text/plain": [
              "<Figure size 288x288 with 1 Axes>"
            ]
          },
          "metadata": {
            "tags": [],
            "needs_background": "light"
          }
        }
      ]
    },
    {
      "cell_type": "code",
      "metadata": {
        "colab": {
          "base_uri": "https://localhost:8080/",
          "height": 292
        },
        "id": "1n7dKibkR6sY",
        "outputId": "5cc49930-cde7-40a5-eb61-f72669bca1e8"
      },
      "source": [
        "plt.matshow(X_train[30000])\n",
        "print(y_train[30000])"
      ],
      "execution_count": 27,
      "outputs": [
        {
          "output_type": "stream",
          "text": [
            "3\n"
          ],
          "name": "stdout"
        },
        {
          "output_type": "display_data",
          "data": {
            "image/png": "[encoded data removed]",
            "text/plain": [
              "<Figure size 288x288 with 1 Axes>"
            ]
          },
          "metadata": {
            "tags": [],
            "needs_background": "light"
          }
        }
      ]
    },
    {
      "cell_type": "code",
      "metadata": {
        "colab": {
          "base_uri": "https://localhost:8080/"
        },
        "id": "I7qsZF4JQ4HW",
        "outputId": "17ebfb88-f2fc-4f84-942b-c27214c16b6a"
      },
      "source": [
        "print(X_train.shape)\n",
        "print(X_test.shape)"
      ],
      "execution_count": 28,
      "outputs": [
        {
          "output_type": "stream",
          "text": [
            "(60000, 28, 28)\n",
            "(10000, 28, 28)\n"
          ],
          "name": "stdout"
        }
      ]
    },
    {
      "cell_type": "code",
      "metadata": {
        "id": "xv5LpNNKTxI9"
      },
      "source": [
        ""
      ],
      "execution_count": 28,
      "outputs": []
    },
    {
      "cell_type": "code",
      "metadata": {
        "id": "m3BJroz7Q-QN"
      },
      "source": [
        "model = tf.keras.Sequential()\n",
        "model.add(tf.keras.layers.Flatten(input_shape=(28,28)))\n",
        "model.add(tf.keras.layers.Dense(128, activation=tf.nn.relu))\n",
        "model.add(tf.keras.layers.Dense(10, activation=tf.nn.softmax))"
      ],
      "execution_count": 29,
      "outputs": []
    },
    {
      "cell_type": "code",
      "metadata": {
        "colab": {
          "base_uri": "https://localhost:8080/"
        },
        "id": "NyJkZVJIS94n",
        "outputId": "2e38251d-f779-411b-dc1c-a93c0a3a0430"
      },
      "source": [
        "model.summary()"
      ],
      "execution_count": 30,
      "outputs": [
        {
          "output_type": "stream",
          "text": [
            "Model: \"sequential_2\"\n",
            "_________________________________________________________________\n",
            "Layer (type)                 Output Shape              Param #   \n",
            "=================================================================\n",
            "flatten (Flatten)            (None, 784)               0         \n",
            "_________________________________________________________________\n",
            "dense_2 (Dense)              (None, 128)               100480    \n",
            "_________________________________________________________________\n",
            "dense_3 (Dense)              (None, 10)                1290      \n",
            "=================================================================\n",
            "Total params: 101,770\n",
            "Trainable params: 101,770\n",
            "Non-trainable params: 0\n",
            "_________________________________________________________________\n"
          ],
          "name": "stdout"
        }
      ]
    },
    {
      "cell_type": "code",
      "metadata": {
        "id": "avh1LRBVUpf4"
      },
      "source": [
        "X_train = X_train/255.0\n",
        "X_test = X_test/255.0"
      ],
      "execution_count": 31,
      "outputs": []
    },
    {
      "cell_type": "code",
      "metadata": {
        "id": "AbwpiCQDU_Wk"
      },
      "source": [
        "model.compile(optimizer=tf.keras.optimizers.Adam(), loss='sparse_categorical_crossentropy',metrics=['accuracy'])"
      ],
      "execution_count": 32,
      "outputs": []
    },
    {
      "cell_type": "code",
      "metadata": {
        "colab": {
          "base_uri": "https://localhost:8080/"
        },
        "id": "ZzVOkTPRVQWl",
        "outputId": "ba404a61-3768-43aa-f73f-550203eec2e6"
      },
      "source": [
        "history = model.fit(X_train,y_train,epochs=10)"
      ],
      "execution_count": 33,
      "outputs": [
        {
          "output_type": "stream",
          "text": [
            "Epoch 1/10\n",
            "1875/1875 [==============================] - 5s 3ms/step - loss: 0.6290 - accuracy: 0.7794\n",
            "Epoch 2/10\n",
            "1875/1875 [==============================] - 5s 3ms/step - loss: 0.3798 - accuracy: 0.8647\n",
            "Epoch 3/10\n",
            "1875/1875 [==============================] - 5s 2ms/step - loss: 0.3372 - accuracy: 0.8762\n",
            "Epoch 4/10\n",
            "1875/1875 [==============================] - 5s 3ms/step - loss: 0.3136 - accuracy: 0.8850\n",
            "Epoch 5/10\n",
            "1875/1875 [==============================] - 5s 3ms/step - loss: 0.2895 - accuracy: 0.8926\n",
            "Epoch 6/10\n",
            "1875/1875 [==============================] - 5s 2ms/step - loss: 0.2798 - accuracy: 0.8974\n",
            "Epoch 7/10\n",
            "1875/1875 [==============================] - 4s 2ms/step - loss: 0.2625 - accuracy: 0.9025\n",
            "Epoch 8/10\n",
            "1875/1875 [==============================] - 4s 2ms/step - loss: 0.2560 - accuracy: 0.9046\n",
            "Epoch 9/10\n",
            "1875/1875 [==============================] - 5s 2ms/step - loss: 0.2466 - accuracy: 0.9081\n",
            "Epoch 10/10\n",
            "1875/1875 [==============================] - 4s 2ms/step - loss: 0.2403 - accuracy: 0.9093\n"
          ],
          "name": "stdout"
        }
      ]
    },
    {
      "cell_type": "code",
      "metadata": {
        "colab": {
          "base_uri": "https://localhost:8080/"
        },
        "id": "JdjV67ajY6Ac",
        "outputId": "bbc0d9ad-55b6-44f2-c23f-57c09f0d78d5"
      },
      "source": [
        "model.evaluate(X_test.reshape(len(X_test),784),y_test)"
      ],
      "execution_count": 34,
      "outputs": [
        {
          "output_type": "stream",
          "text": [
            "WARNING:tensorflow:Model was constructed with shape (None, 28, 28) for input KerasTensor(type_spec=TensorSpec(shape=(None, 28, 28), dtype=tf.float32, name='flatten_input'), name='flatten_input', description=\"created by layer 'flatten_input'\"), but it was called on an input with incompatible shape (None, 784).\n",
            "313/313 [==============================] - 1s 1ms/step - loss: 0.3429 - accuracy: 0.8823\n"
          ],
          "name": "stdout"
        },
        {
          "output_type": "execute_result",
          "data": {
            "text/plain": [
              "[0.342943400144577, 0.8823000192642212]"
            ]
          },
          "metadata": {
            "tags": []
          },
          "execution_count": 34
        }
      ]
    },
    {
      "cell_type": "code",
      "metadata": {
        "colab": {
          "base_uri": "https://localhost:8080/"
        },
        "id": "Lm8Y8bcEVUk_",
        "outputId": "c781e851-054e-4b94-9ed6-2f0e794b4e84"
      },
      "source": [
        "np.argmax(model.predict(np.array(X_test[5000]).reshape(1,784)))"
      ],
      "execution_count": 35,
      "outputs": [
        {
          "output_type": "stream",
          "text": [
            "WARNING:tensorflow:Model was constructed with shape (None, 28, 28) for input KerasTensor(type_spec=TensorSpec(shape=(None, 28, 28), dtype=tf.float32, name='flatten_input'), name='flatten_input', description=\"created by layer 'flatten_input'\"), but it was called on an input with incompatible shape (None, 784).\n",
            "WARNING:tensorflow:5 out of the last 11 calls to <function Model.make_predict_function.<locals>.predict_function at 0x7f2369b0d200> triggered tf.function retracing. Tracing is expensive and the excessive number of tracings could be due to (1) creating @tf.function repeatedly in a loop, (2) passing tensors with different shapes, (3) passing Python objects instead of tensors. For (1), please define your @tf.function outside of the loop. For (2), @tf.function has experimental_relax_shapes=True option that relaxes argument shapes that can avoid unnecessary retracing. For (3), please refer to https://www.tensorflow.org/guide/function#controlling_retracing and https://www.tensorflow.org/api_docs/python/tf/function for  more details.\n"
          ],
          "name": "stdout"
        },
        {
          "output_type": "execute_result",
          "data": {
            "text/plain": [
              "2"
            ]
          },
          "metadata": {
            "tags": []
          },
          "execution_count": 35
        }
      ]
    },
    {
      "cell_type": "code",
      "metadata": {
        "colab": {
          "base_uri": "https://localhost:8080/",
          "height": 292
        },
        "id": "yrrKJEq7Vy1T",
        "outputId": "d670aefc-bc4b-4734-c635-f1e28bd6d085"
      },
      "source": [
        "plt.matshow(X_test[5000])"
      ],
      "execution_count": 36,
      "outputs": [
        {
          "output_type": "execute_result",
          "data": {
            "text/plain": [
              "<matplotlib.image.AxesImage at 0x7f23692dbad0>"
            ]
          },
          "metadata": {
            "tags": []
          },
          "execution_count": 36
        },
        {
          "output_type": "display_data",
          "data": {
            "image/png": "[encoded data removed]",
            "text/plain": [
              "<Figure size 288x288 with 1 Axes>"
            ]
          },
          "metadata": {
            "tags": [],
            "needs_background": "light"
          }
        }
      ]
    },
    {
      "cell_type": "code",
      "metadata": {
        "colab": {
          "base_uri": "https://localhost:8080/"
        },
        "id": "HrFsIXvLWDcd",
        "outputId": "532c8da5-7295-4206-c5a8-8333ea130ec5"
      },
      "source": [
        "print(y_test[5000])"
      ],
      "execution_count": 37,
      "outputs": [
        {
          "output_type": "stream",
          "text": [
            "2\n"
          ],
          "name": "stdout"
        }
      ]
    },
    {
      "cell_type": "code",
      "metadata": {
        "id": "YDW4CJ_UWRY5"
      },
      "source": [
        ""
      ],
      "execution_count": 37,
      "outputs": []
    }
  ]
}